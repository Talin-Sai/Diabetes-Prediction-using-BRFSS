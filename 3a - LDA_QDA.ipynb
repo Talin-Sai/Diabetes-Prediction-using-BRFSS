{
  "cells": [
    {
      "cell_type": "code",
      "execution_count": null,
      "metadata": {
        "colab": {
          "base_uri": "https://localhost:8080/"
        },
        "id": "qtZ5XgfXr964",
        "outputId": "22574310-e10c-4207-af87-d6761feab914"
      },
      "outputs": [
        {
          "output_type": "stream",
          "name": "stdout",
          "text": [
            "Mounted at /content/drive\n"
          ]
        }
      ],
      "source": [
        "from google.colab import drive\n",
        "drive.mount('/content/drive', force_remount=True)"
      ]
    },
    {
      "cell_type": "code",
      "execution_count": null,
      "metadata": {
        "id": "W2I6IQYVrAXw"
      },
      "outputs": [],
      "source": [
        "import numpy as np\n",
        "import pandas as pd"
      ]
    },
    {
      "cell_type": "code",
      "execution_count": null,
      "metadata": {
        "id": "q6KC6Yt_sKCq"
      },
      "outputs": [],
      "source": [
        "train = pd.read_csv('/content/drive/MyDrive/Stats_Learning_Final_Project/train.csv')\n",
        "test = pd.read_csv('/content/drive/MyDrive/Stats_Learning_Final_Project/test.csv')"
      ]
    },
    {
      "cell_type": "code",
      "execution_count": null,
      "metadata": {
        "id": "-WNWa0zksKyn"
      },
      "outputs": [],
      "source": [
        "train = train.drop('Unnamed: 0', axis = 1)\n",
        "test = test.drop('Unnamed: 0', axis = 1)"
      ]
    },
    {
      "cell_type": "code",
      "execution_count": null,
      "metadata": {
        "id": "IoQd_5jOsPaR"
      },
      "outputs": [],
      "source": [
        "X_train = train.iloc[:,:-1]\n",
        "y_train = train.iloc[:,-1]\n",
        "X_test = test.iloc[:,:-1]\n",
        "y_test = test.iloc[:,-1]"
      ]
    },
    {
      "cell_type": "code",
      "execution_count": null,
      "metadata": {
        "colab": {
          "base_uri": "https://localhost:8080/",
          "height": 300
        },
        "id": "DBlkKLB5fJGu",
        "outputId": "b99b2876-ce2d-4085-dd4b-b525f92e7ab1"
      },
      "outputs": [
        {
          "data": {
            "text/html": [
              "\n",
              "  <div id=\"df-f49e5baa-8ce6-44ce-8d91-864834a40f1d\">\n",
              "    <div class=\"colab-df-container\">\n",
              "      <div>\n",
              "<style scoped>\n",
              "    .dataframe tbody tr th:only-of-type {\n",
              "        vertical-align: middle;\n",
              "    }\n",
              "\n",
              "    .dataframe tbody tr th {\n",
              "        vertical-align: top;\n",
              "    }\n",
              "\n",
              "    .dataframe thead th {\n",
              "        text-align: right;\n",
              "    }\n",
              "</style>\n",
              "<table border=\"1\" class=\"dataframe\">\n",
              "  <thead>\n",
              "    <tr style=\"text-align: right;\">\n",
              "      <th></th>\n",
              "      <th>GenHlth</th>\n",
              "      <th>NoDocCost</th>\n",
              "      <th>KidneyDisease</th>\n",
              "      <th>Married</th>\n",
              "      <th>HasInsurance</th>\n",
              "      <th>PhysHlthBad</th>\n",
              "      <th>MentHelthBad</th>\n",
              "      <th>Exercise</th>\n",
              "      <th>HighBP</th>\n",
              "      <th>HighChol</th>\n",
              "      <th>...</th>\n",
              "      <th>DrkGrnVegIntake</th>\n",
              "      <th>FrenchFryIntake</th>\n",
              "      <th>PotatoIntake</th>\n",
              "      <th>OtherVegIntake</th>\n",
              "      <th>Race_White</th>\n",
              "      <th>Race_Black</th>\n",
              "      <th>Race_Asian</th>\n",
              "      <th>Race_Native</th>\n",
              "      <th>Race_Hisp</th>\n",
              "      <th>Race_Other</th>\n",
              "    </tr>\n",
              "  </thead>\n",
              "  <tbody>\n",
              "    <tr>\n",
              "      <th>0</th>\n",
              "      <td>2.0</td>\n",
              "      <td>0.0</td>\n",
              "      <td>0.0</td>\n",
              "      <td>1.0</td>\n",
              "      <td>1.0</td>\n",
              "      <td>0.0</td>\n",
              "      <td>0.0</td>\n",
              "      <td>1.0</td>\n",
              "      <td>0.0</td>\n",
              "      <td>0.0</td>\n",
              "      <td>...</td>\n",
              "      <td>100.0</td>\n",
              "      <td>13.0</td>\n",
              "      <td>0.0</td>\n",
              "      <td>300.0</td>\n",
              "      <td>1.0</td>\n",
              "      <td>0.0</td>\n",
              "      <td>0.0</td>\n",
              "      <td>0.0</td>\n",
              "      <td>0.0</td>\n",
              "      <td>0.0</td>\n",
              "    </tr>\n",
              "    <tr>\n",
              "      <th>1</th>\n",
              "      <td>3.0</td>\n",
              "      <td>0.0</td>\n",
              "      <td>0.0</td>\n",
              "      <td>0.0</td>\n",
              "      <td>1.0</td>\n",
              "      <td>0.0</td>\n",
              "      <td>0.0</td>\n",
              "      <td>0.0</td>\n",
              "      <td>0.0</td>\n",
              "      <td>0.0</td>\n",
              "      <td>...</td>\n",
              "      <td>14.0</td>\n",
              "      <td>3.0</td>\n",
              "      <td>0.0</td>\n",
              "      <td>14.0</td>\n",
              "      <td>0.0</td>\n",
              "      <td>1.0</td>\n",
              "      <td>0.0</td>\n",
              "      <td>0.0</td>\n",
              "      <td>0.0</td>\n",
              "      <td>0.0</td>\n",
              "    </tr>\n",
              "    <tr>\n",
              "      <th>2</th>\n",
              "      <td>4.0</td>\n",
              "      <td>1.0</td>\n",
              "      <td>0.0</td>\n",
              "      <td>0.0</td>\n",
              "      <td>1.0</td>\n",
              "      <td>1.0</td>\n",
              "      <td>2.0</td>\n",
              "      <td>0.0</td>\n",
              "      <td>1.0</td>\n",
              "      <td>1.0</td>\n",
              "      <td>...</td>\n",
              "      <td>43.0</td>\n",
              "      <td>43.0</td>\n",
              "      <td>13.0</td>\n",
              "      <td>100.0</td>\n",
              "      <td>0.0</td>\n",
              "      <td>0.0</td>\n",
              "      <td>0.0</td>\n",
              "      <td>0.0</td>\n",
              "      <td>1.0</td>\n",
              "      <td>0.0</td>\n",
              "    </tr>\n",
              "    <tr>\n",
              "      <th>3</th>\n",
              "      <td>4.0</td>\n",
              "      <td>0.0</td>\n",
              "      <td>0.0</td>\n",
              "      <td>0.0</td>\n",
              "      <td>1.0</td>\n",
              "      <td>2.0</td>\n",
              "      <td>0.0</td>\n",
              "      <td>0.0</td>\n",
              "      <td>1.0</td>\n",
              "      <td>1.0</td>\n",
              "      <td>...</td>\n",
              "      <td>0.0</td>\n",
              "      <td>0.0</td>\n",
              "      <td>0.0</td>\n",
              "      <td>0.0</td>\n",
              "      <td>0.0</td>\n",
              "      <td>0.0</td>\n",
              "      <td>0.0</td>\n",
              "      <td>0.0</td>\n",
              "      <td>1.0</td>\n",
              "      <td>0.0</td>\n",
              "    </tr>\n",
              "    <tr>\n",
              "      <th>4</th>\n",
              "      <td>3.0</td>\n",
              "      <td>0.0</td>\n",
              "      <td>0.0</td>\n",
              "      <td>1.0</td>\n",
              "      <td>1.0</td>\n",
              "      <td>0.0</td>\n",
              "      <td>0.0</td>\n",
              "      <td>1.0</td>\n",
              "      <td>1.0</td>\n",
              "      <td>0.0</td>\n",
              "      <td>...</td>\n",
              "      <td>43.0</td>\n",
              "      <td>0.0</td>\n",
              "      <td>2.0</td>\n",
              "      <td>100.0</td>\n",
              "      <td>1.0</td>\n",
              "      <td>0.0</td>\n",
              "      <td>0.0</td>\n",
              "      <td>0.0</td>\n",
              "      <td>0.0</td>\n",
              "      <td>0.0</td>\n",
              "    </tr>\n",
              "  </tbody>\n",
              "</table>\n",
              "<p>5 rows × 30 columns</p>\n",
              "</div>\n",
              "      <button class=\"colab-df-convert\" onclick=\"convertToInteractive('df-f49e5baa-8ce6-44ce-8d91-864834a40f1d')\"\n",
              "              title=\"Convert this dataframe to an interactive table.\"\n",
              "              style=\"display:none;\">\n",
              "        \n",
              "  <svg xmlns=\"http://www.w3.org/2000/svg\" height=\"24px\"viewBox=\"0 0 24 24\"\n",
              "       width=\"24px\">\n",
              "    <path d=\"M0 0h24v24H0V0z\" fill=\"none\"/>\n",
              "    <path d=\"M18.56 5.44l.94 2.06.94-2.06 2.06-.94-2.06-.94-.94-2.06-.94 2.06-2.06.94zm-11 1L8.5 8.5l.94-2.06 2.06-.94-2.06-.94L8.5 2.5l-.94 2.06-2.06.94zm10 10l.94 2.06.94-2.06 2.06-.94-2.06-.94-.94-2.06-.94 2.06-2.06.94z\"/><path d=\"M17.41 7.96l-1.37-1.37c-.4-.4-.92-.59-1.43-.59-.52 0-1.04.2-1.43.59L10.3 9.45l-7.72 7.72c-.78.78-.78 2.05 0 2.83L4 21.41c.39.39.9.59 1.41.59.51 0 1.02-.2 1.41-.59l7.78-7.78 2.81-2.81c.8-.78.8-2.07 0-2.86zM5.41 20L4 18.59l7.72-7.72 1.47 1.35L5.41 20z\"/>\n",
              "  </svg>\n",
              "      </button>\n",
              "      \n",
              "  <style>\n",
              "    .colab-df-container {\n",
              "      display:flex;\n",
              "      flex-wrap:wrap;\n",
              "      gap: 12px;\n",
              "    }\n",
              "\n",
              "    .colab-df-convert {\n",
              "      background-color: #E8F0FE;\n",
              "      border: none;\n",
              "      border-radius: 50%;\n",
              "      cursor: pointer;\n",
              "      display: none;\n",
              "      fill: #1967D2;\n",
              "      height: 32px;\n",
              "      padding: 0 0 0 0;\n",
              "      width: 32px;\n",
              "    }\n",
              "\n",
              "    .colab-df-convert:hover {\n",
              "      background-color: #E2EBFA;\n",
              "      box-shadow: 0px 1px 2px rgba(60, 64, 67, 0.3), 0px 1px 3px 1px rgba(60, 64, 67, 0.15);\n",
              "      fill: #174EA6;\n",
              "    }\n",
              "\n",
              "    [theme=dark] .colab-df-convert {\n",
              "      background-color: #3B4455;\n",
              "      fill: #D2E3FC;\n",
              "    }\n",
              "\n",
              "    [theme=dark] .colab-df-convert:hover {\n",
              "      background-color: #434B5C;\n",
              "      box-shadow: 0px 1px 3px 1px rgba(0, 0, 0, 0.15);\n",
              "      filter: drop-shadow(0px 1px 2px rgba(0, 0, 0, 0.3));\n",
              "      fill: #FFFFFF;\n",
              "    }\n",
              "  </style>\n",
              "\n",
              "      <script>\n",
              "        const buttonEl =\n",
              "          document.querySelector('#df-f49e5baa-8ce6-44ce-8d91-864834a40f1d button.colab-df-convert');\n",
              "        buttonEl.style.display =\n",
              "          google.colab.kernel.accessAllowed ? 'block' : 'none';\n",
              "\n",
              "        async function convertToInteractive(key) {\n",
              "          const element = document.querySelector('#df-f49e5baa-8ce6-44ce-8d91-864834a40f1d');\n",
              "          const dataTable =\n",
              "            await google.colab.kernel.invokeFunction('convertToInteractive',\n",
              "                                                     [key], {});\n",
              "          if (!dataTable) return;\n",
              "\n",
              "          const docLinkHtml = 'Like what you see? Visit the ' +\n",
              "            '<a target=\"_blank\" href=https://colab.research.google.com/notebooks/data_table.ipynb>data table notebook</a>'\n",
              "            + ' to learn more about interactive tables.';\n",
              "          element.innerHTML = '';\n",
              "          dataTable['output_type'] = 'display_data';\n",
              "          await google.colab.output.renderOutput(dataTable, element);\n",
              "          const docLink = document.createElement('div');\n",
              "          docLink.innerHTML = docLinkHtml;\n",
              "          element.appendChild(docLink);\n",
              "        }\n",
              "      </script>\n",
              "    </div>\n",
              "  </div>\n",
              "  "
            ],
            "text/plain": [
              "   GenHlth  NoDocCost  KidneyDisease  Married  HasInsurance  PhysHlthBad  \\\n",
              "0      2.0        0.0            0.0      1.0           1.0          0.0   \n",
              "1      3.0        0.0            0.0      0.0           1.0          0.0   \n",
              "2      4.0        1.0            0.0      0.0           1.0          1.0   \n",
              "3      4.0        0.0            0.0      0.0           1.0          2.0   \n",
              "4      3.0        0.0            0.0      1.0           1.0          0.0   \n",
              "\n",
              "   MentHelthBad  Exercise  HighBP  HighChol  ...  DrkGrnVegIntake  \\\n",
              "0           0.0       1.0     0.0       0.0  ...            100.0   \n",
              "1           0.0       0.0     0.0       0.0  ...             14.0   \n",
              "2           2.0       0.0     1.0       1.0  ...             43.0   \n",
              "3           0.0       0.0     1.0       1.0  ...              0.0   \n",
              "4           0.0       1.0     1.0       0.0  ...             43.0   \n",
              "\n",
              "   FrenchFryIntake  PotatoIntake  OtherVegIntake  Race_White  Race_Black  \\\n",
              "0             13.0           0.0           300.0         1.0         0.0   \n",
              "1              3.0           0.0            14.0         0.0         1.0   \n",
              "2             43.0          13.0           100.0         0.0         0.0   \n",
              "3              0.0           0.0             0.0         0.0         0.0   \n",
              "4              0.0           2.0           100.0         1.0         0.0   \n",
              "\n",
              "   Race_Asian  Race_Native  Race_Hisp  Race_Other  \n",
              "0         0.0          0.0        0.0         0.0  \n",
              "1         0.0          0.0        0.0         0.0  \n",
              "2         0.0          0.0        1.0         0.0  \n",
              "3         0.0          0.0        1.0         0.0  \n",
              "4         0.0          0.0        0.0         0.0  \n",
              "\n",
              "[5 rows x 30 columns]"
            ]
          },
          "execution_count": 8,
          "metadata": {},
          "output_type": "execute_result"
        }
      ],
      "source": [
        "X_train.head()"
      ]
    },
    {
      "cell_type": "code",
      "execution_count": null,
      "metadata": {
        "colab": {
          "base_uri": "https://localhost:8080/"
        },
        "id": "rIH2ot2SeKyd",
        "outputId": "318b8067-2649-4b2b-c208-5e0baa7cf9c1"
      },
      "outputs": [
        {
          "data": {
            "text/plain": [
              "Index(['GenHlth', 'NoDocCost', 'KidneyDisease', 'Married', 'HasInsurance',\n",
              "       'PhysHlthBad', 'MentHelthBad', 'Exercise', 'HighBP', 'HighChol',\n",
              "       'HeartDisease', 'Sex', 'Height', 'Weight', 'EducationLvl', 'IncomeLvl',\n",
              "       'SmokerLvl', 'HeavyDrinker', 'FruitJuiceIntake', 'FruitIntake',\n",
              "       'DrkGrnVegIntake', 'FrenchFryIntake', 'PotatoIntake', 'OtherVegIntake',\n",
              "       'Race_White', 'Race_Black', 'Race_Asian', 'Race_Native', 'Race_Hisp',\n",
              "       'Race_Other'],\n",
              "      dtype='object')"
            ]
          },
          "execution_count": 7,
          "metadata": {},
          "output_type": "execute_result"
        }
      ],
      "source": [
        "X_train.columns"
      ]
    },
    {
      "cell_type": "code",
      "execution_count": null,
      "metadata": {
        "id": "Kq-TLaGnsREt"
      },
      "outputs": [],
      "source": [
        "from sklearn.preprocessing import StandardScaler\n",
        "from sklearn.discriminant_analysis import LinearDiscriminantAnalysis\n",
        "from sklearn.discriminant_analysis import QuadraticDiscriminantAnalysis\n",
        "from sklearn.linear_model import LogisticRegression\n",
        "from sklearn.model_selection import GridSearchCV\n",
        "from sklearn import metrics \n",
        "from sklearn.metrics import confusion_matrix\n",
        "from sklearn.metrics import classification_report\n",
        "from sklearn.metrics import roc_auc_score\n"
      ]
    },
    {
      "cell_type": "markdown",
      "source": [
        "Logistic Regression"
      ],
      "metadata": {
        "id": "EriFe8DakFDW"
      }
    },
    {
      "cell_type": "code",
      "source": [
        "log=LogisticRegression(multi_class='multinomial')"
      ],
      "metadata": {
        "id": "_8kr5SeKiDoy"
      },
      "execution_count": null,
      "outputs": []
    },
    {
      "cell_type": "code",
      "source": [
        "LogisticRegression??"
      ],
      "metadata": {
        "id": "f1lgkDzel_mu"
      },
      "execution_count": null,
      "outputs": []
    },
    {
      "cell_type": "code",
      "source": [
        "log.fit(X_train,y_train)"
      ],
      "metadata": {
        "colab": {
          "base_uri": "https://localhost:8080/"
        },
        "id": "yRQxL4PViDsI",
        "outputId": "f70d07bd-bad3-4f40-e366-b57f39deee11"
      },
      "execution_count": null,
      "outputs": [
        {
          "output_type": "stream",
          "name": "stderr",
          "text": [
            "/usr/local/lib/python3.8/dist-packages/sklearn/linear_model/_logistic.py:814: ConvergenceWarning: lbfgs failed to converge (status=1):\n",
            "STOP: TOTAL NO. of ITERATIONS REACHED LIMIT.\n",
            "\n",
            "Increase the number of iterations (max_iter) or scale the data as shown in:\n",
            "    https://scikit-learn.org/stable/modules/preprocessing.html\n",
            "Please also refer to the documentation for alternative solver options:\n",
            "    https://scikit-learn.org/stable/modules/linear_model.html#logistic-regression\n",
            "  n_iter_i = _check_optimize_result(\n"
          ]
        },
        {
          "output_type": "execute_result",
          "data": {
            "text/plain": [
              "LogisticRegression(multi_class='multinomial')"
            ]
          },
          "metadata": {},
          "execution_count": 73
        }
      ]
    },
    {
      "cell_type": "code",
      "source": [
        "y_pred_log=log.predict(X_test)"
      ],
      "metadata": {
        "id": "DEjbCjUjiDu_"
      },
      "execution_count": null,
      "outputs": []
    },
    {
      "cell_type": "code",
      "source": [
        "np.array(confusion_matrix(y_test, y_pred_log))"
      ],
      "metadata": {
        "colab": {
          "base_uri": "https://localhost:8080/"
        },
        "id": "3zsOjU2ijwq2",
        "outputId": "ce8db770-5844-4bf5-f125-5f74ba59cd4c"
      },
      "execution_count": null,
      "outputs": [
        {
          "output_type": "execute_result",
          "data": {
            "text/plain": [
              "array([[ 3474,  1482,  1891],\n",
              "       [ 2909, 12233,  4817],\n",
              "       [  392,   368,   369]])"
            ]
          },
          "metadata": {},
          "execution_count": 75
        }
      ]
    },
    {
      "cell_type": "code",
      "source": [
        "metrics.f1_score(y_test,y_pred_log,average='macro')"
      ],
      "metadata": {
        "colab": {
          "base_uri": "https://localhost:8080/"
        },
        "id": "irWgicOBjwtb",
        "outputId": "1ef67c9d-3367-4c42-b946-caf04fc08a01"
      },
      "execution_count": null,
      "outputs": [
        {
          "output_type": "execute_result",
          "data": {
            "text/plain": [
              "0.43956396122933405"
            ]
          },
          "metadata": {},
          "execution_count": 76
        }
      ]
    },
    {
      "cell_type": "code",
      "source": [
        "metrics.accuracy_score(y_test,y_pred_log)"
      ],
      "metadata": {
        "colab": {
          "base_uri": "https://localhost:8080/"
        },
        "id": "S-VDo7jsjww1",
        "outputId": "3fe1e399-90cf-440c-82f1-0ea3532b6fec"
      },
      "execution_count": null,
      "outputs": [
        {
          "output_type": "execute_result",
          "data": {
            "text/plain": [
              "0.5754787900483265"
            ]
          },
          "metadata": {},
          "execution_count": 77
        }
      ]
    },
    {
      "cell_type": "code",
      "source": [
        "mat = confusion_matrix(y_test, y_pred_log)\n",
        "plt.figure(figsize=(5,5))\n",
        "\n",
        "# np.unique(y_train) gives labels in a 'sorted' fashion appropriate to the outputs\n",
        "sns.heatmap(mat.T, square=True, annot=True, fmt='d', cbar=False, \n",
        "            xticklabels=np.unique(y_train), yticklabels=np.unique(y_train))\n",
        "plt.xlabel('true label')\n",
        "plt.ylabel('predicted label')\n",
        "plt.title('Multinomial Logistic Regression Confusion Matrix')"
      ],
      "metadata": {
        "colab": {
          "base_uri": "https://localhost:8080/",
          "height": 368
        },
        "id": "1x-gum17kJjR",
        "outputId": "0f5e0b0a-1d34-48b2-f97c-c5e4d63cf3e3"
      },
      "execution_count": null,
      "outputs": [
        {
          "output_type": "execute_result",
          "data": {
            "text/plain": [
              "Text(0.5, 1.0, 'Multinomial Logistic Regression Confusion Matrix')"
            ]
          },
          "metadata": {},
          "execution_count": 16
        },
        {
          "output_type": "display_data",
          "data": {
            "text/plain": [
              "<Figure size 360x360 with 1 Axes>"
            ],
            "image/png": "[encoded data removed]"
          },
          "metadata": {
            "needs_background": "light"
          }
        }
      ]
    },
    {
      "cell_type": "code",
      "source": [
        "#CV\n",
        "parameters_1og={'solver':('newton-cg','sag','saga'),\n",
        "                'max_iter':([3])\n",
        "              }\n",
        "grid_log=GridSearchCV(\n",
        "    estimator=log,\n",
        "    param_grid=parameters_1og,\n",
        "    scoring = 'accuracy',\n",
        "    n_jobs = -1,\n",
        ")"
      ],
      "metadata": {
        "id": "fXKJQ139mx0O"
      },
      "execution_count": null,
      "outputs": []
    },
    {
      "cell_type": "code",
      "source": [
        "grid_log.fit(X_train,y_train)"
      ],
      "metadata": {
        "colab": {
          "base_uri": "https://localhost:8080/"
        },
        "id": "rTINV7l0mx3D",
        "outputId": "39746652-bc1b-4f27-ae8d-94e4b042ce36"
      },
      "execution_count": null,
      "outputs": [
        {
          "output_type": "stream",
          "name": "stderr",
          "text": [
            "/usr/local/lib/python3.8/dist-packages/sklearn/linear_model/_sag.py:352: ConvergenceWarning: The max_iter was reached which means the coef_ did not converge\n",
            "  warnings.warn(\n"
          ]
        },
        {
          "output_type": "execute_result",
          "data": {
            "text/plain": [
              "GridSearchCV(estimator=LogisticRegression(multi_class='multinomial'), n_jobs=-1,\n",
              "             param_grid={'max_iter': [3],\n",
              "                         'solver': ('newton-cg', 'sag', 'saga')},\n",
              "             scoring='accuracy')"
            ]
          },
          "metadata": {},
          "execution_count": 86
        }
      ]
    },
    {
      "cell_type": "code",
      "source": [
        "y_pred_grid_log=grid_log.predict(X_test)"
      ],
      "metadata": {
        "id": "bCx60aw5mx56"
      },
      "execution_count": null,
      "outputs": []
    },
    {
      "cell_type": "code",
      "source": [
        "np.array(confusion_matrix(y_test, y_pred_grid_log))"
      ],
      "metadata": {
        "colab": {
          "base_uri": "https://localhost:8080/"
        },
        "id": "AERPnxYWmx8A",
        "outputId": "e3192826-7c70-42cd-de1d-f21082d0ecc7"
      },
      "execution_count": null,
      "outputs": [
        {
          "output_type": "execute_result",
          "data": {
            "text/plain": [
              "array([[ 3387,  1441,  2019],\n",
              "       [ 2793, 12134,  5032],\n",
              "       [  371,   357,   401]])"
            ]
          },
          "metadata": {},
          "execution_count": 88
        }
      ]
    },
    {
      "cell_type": "code",
      "source": [
        "metrics.f1_score(y_test,y_pred_grid_log,average='macro')"
      ],
      "metadata": {
        "colab": {
          "base_uri": "https://localhost:8080/"
        },
        "id": "XlLQnEvnmx-5",
        "outputId": "f82dbce0-9079-435e-adf2-beb20a4a1235"
      },
      "execution_count": null,
      "outputs": [
        {
          "output_type": "execute_result",
          "data": {
            "text/plain": [
              "0.4383734872845472"
            ]
          },
          "metadata": {},
          "execution_count": 89
        }
      ]
    },
    {
      "cell_type": "code",
      "source": [
        "metrics.accuracy_score(y_test,y_pred_grid_log)"
      ],
      "metadata": {
        "colab": {
          "base_uri": "https://localhost:8080/"
        },
        "id": "-2nprcyYmyBu",
        "outputId": "f823c3fb-63ca-4555-aa39-236aec8d80e3"
      },
      "execution_count": null,
      "outputs": [
        {
          "output_type": "execute_result",
          "data": {
            "text/plain": [
              "0.5699659924825488"
            ]
          },
          "metadata": {},
          "execution_count": 90
        }
      ]
    },
    {
      "cell_type": "markdown",
      "source": [
        "Linear Discriminant Analysis"
      ],
      "metadata": {
        "id": "VdUGL3GLkTWp"
      }
    },
    {
      "cell_type": "code",
      "execution_count": null,
      "metadata": {
        "colab": {
          "base_uri": "https://localhost:8080/"
        },
        "id": "ml__Pl8s1D-k",
        "outputId": "503ad7a2-3e28-4bb8-8f35-7eecdfae34d9"
      },
      "outputs": [
        {
          "output_type": "stream",
          "name": "stderr",
          "text": [
            "/usr/local/lib/python3.8/dist-packages/pandas/core/frame.py:3678: SettingWithCopyWarning: \n",
            "A value is trying to be set on a copy of a slice from a DataFrame.\n",
            "Try using .loc[row_indexer,col_indexer] = value instead\n",
            "\n",
            "See the caveats in the documentation: https://pandas.pydata.org/pandas-docs/stable/user_guide/indexing.html#returning-a-view-versus-a-copy\n",
            "  self[col] = igetitem(value, i)\n"
          ]
        }
      ],
      "source": [
        "scaler=StandardScaler(copy=True,with_mean=True,with_std=True)\n",
        "col_names=['DrkGrnVegIntake','FrenchFryIntake','PotatoIntake','OtherVegIntake','Height','Weight','IncomeLvl','SmokerLvl','FruitJuiceIntake','FruitIntake']\n",
        "X_train[col_names]=scaler.fit_transform(X_train[col_names])\n",
        "X_test[col_names]=scaler.fit_transform(X_test[col_names])"
      ]
    },
    {
      "cell_type": "code",
      "execution_count": null,
      "metadata": {
        "colab": {
          "base_uri": "https://localhost:8080/"
        },
        "id": "rf7dT_xt58Lw",
        "outputId": "a13067d2-6217-4dc9-d487-0d232ff9604b"
      },
      "outputs": [
        {
          "output_type": "execute_result",
          "data": {
            "text/plain": [
              "0        3.0\n",
              "1        3.0\n",
              "2        3.0\n",
              "3        3.0\n",
              "4        3.0\n",
              "        ... \n",
              "27930    3.0\n",
              "27931    3.0\n",
              "27932    1.0\n",
              "27933    3.0\n",
              "27934    3.0\n",
              "Name: DiabetesStatus, Length: 27935, dtype: float64"
            ]
          },
          "metadata": {},
          "execution_count": 18
        }
      ],
      "source": [
        "y_test"
      ]
    },
    {
      "cell_type": "code",
      "execution_count": null,
      "metadata": {
        "id": "P3G2wbhW_kaJ"
      },
      "outputs": [],
      "source": [
        "lda=LinearDiscriminantAnalysis()\n",
        "lda.fit(X_train,y_train)\n",
        "y_pred=lda.predict(X_test)"
      ]
    },
    {
      "cell_type": "code",
      "execution_count": null,
      "metadata": {
        "colab": {
          "base_uri": "https://localhost:8080/"
        },
        "id": "or1P18C0x5vB",
        "outputId": "5ce2b116-753c-4614-e25b-e2516a949d38"
      },
      "outputs": [
        {
          "output_type": "execute_result",
          "data": {
            "text/plain": [
              "array([[ 3511,  1434,  1902],\n",
              "       [ 3023, 12271,  4665],\n",
              "       [  391,   367,   371]])"
            ]
          },
          "metadata": {},
          "execution_count": 53
        }
      ],
      "source": [
        "np.array(confusion_matrix(y_test, y_pred))"
      ]
    },
    {
      "cell_type": "code",
      "execution_count": null,
      "metadata": {
        "id": "ipMc6nyF1ecR"
      },
      "outputs": [],
      "source": [
        "import matplotlib.pyplot as plt\n",
        "import seaborn as sns"
      ]
    },
    {
      "cell_type": "code",
      "execution_count": null,
      "metadata": {
        "colab": {
          "base_uri": "https://localhost:8080/"
        },
        "id": "hhLCrMik1l3B",
        "outputId": "085f87a6-6ac8-41b3-da98-e2a1a7bb2daa"
      },
      "outputs": [
        {
          "output_type": "execute_result",
          "data": {
            "text/plain": [
              "0.4410069249626653"
            ]
          },
          "metadata": {},
          "execution_count": 55
        }
      ],
      "source": [
        "metrics.f1_score(y_test,y_pred,average='macro')\n",
        "#metrics.precision_score(y_test,y_pred,average='macro')"
      ]
    },
    {
      "cell_type": "code",
      "execution_count": null,
      "metadata": {
        "id": "CdKsz974B3Tm",
        "colab": {
          "base_uri": "https://localhost:8080/"
        },
        "outputId": "02214436-26fa-4148-9c6c-a9a7938c1904"
      },
      "outputs": [
        {
          "output_type": "execute_result",
          "data": {
            "text/plain": [
              "0.5782351888312153"
            ]
          },
          "metadata": {},
          "execution_count": 56
        }
      ],
      "source": [
        "metrics.accuracy_score(y_test,y_pred)"
      ]
    },
    {
      "cell_type": "code",
      "execution_count": null,
      "metadata": {
        "colab": {
          "base_uri": "https://localhost:8080/",
          "height": 368
        },
        "id": "4aBztVNe1YeR",
        "outputId": "918ce50a-e092-40d3-87f8-a642e6375a01"
      },
      "outputs": [
        {
          "output_type": "execute_result",
          "data": {
            "text/plain": [
              "Text(0.5, 1.0, 'LDA Confusion Matrix')"
            ]
          },
          "metadata": {},
          "execution_count": 57
        },
        {
          "output_type": "display_data",
          "data": {
            "text/plain": [
              "<Figure size 360x360 with 1 Axes>"
            ],
            "image/png": "[encoded data removed]"
          },
          "metadata": {
            "needs_background": "light"
          }
        }
      ],
      "source": [
        "mat = confusion_matrix(y_test, y_pred)\n",
        "plt.figure(figsize=(5,5))\n",
        "\n",
        "# np.unique(y_train) gives labels in a 'sorted' fashion appropriate to the outputs\n",
        "sns.heatmap(mat.T, square=True, annot=True, fmt='d', cbar=False, \n",
        "            xticklabels=np.unique(y_train), yticklabels=np.unique(y_train))\n",
        "plt.xlabel('true label')\n",
        "plt.ylabel('predicted label')\n",
        "plt.title('LDA Confusion Matrix')"
      ]
    },
    {
      "cell_type": "code",
      "execution_count": null,
      "metadata": {
        "id": "XeHTBYB-hF1O"
      },
      "outputs": [],
      "source": [
        "#CV\n",
        "parameters_1={'solver':('lsqr','eigen'),\n",
        "              'shrinkage':(0.1,0.01,0.001),\n",
        "              'tol':(0.1,0.001),\n",
        "              'n_components': (1,2),\n",
        "              'store_covariance': (True, False)\n",
        "              }\n",
        "grid_lda=GridSearchCV(\n",
        "    estimator=lda,\n",
        "    param_grid=parameters_1,\n",
        "    scoring = 'accuracy',\n",
        "    n_jobs = -1,\n",
        ")"
      ]
    },
    {
      "cell_type": "code",
      "execution_count": null,
      "metadata": {
        "id": "hO1JO6lxjyiU"
      },
      "outputs": [],
      "source": [
        "GridSearchCV?"
      ]
    },
    {
      "cell_type": "code",
      "execution_count": null,
      "metadata": {
        "id": "A2uSEF3eiMvl"
      },
      "outputs": [],
      "source": [
        "lda_grid=grid_lda.fit(X_train,y_train)\n",
        "y_pred_grid=lda_grid.predict(X_test)"
      ]
    },
    {
      "cell_type": "code",
      "execution_count": null,
      "metadata": {
        "colab": {
          "base_uri": "https://localhost:8080/"
        },
        "id": "7vl_i1uKjmAU",
        "outputId": "d3bc5e4c-1b60-4796-809f-5148f2fcb667"
      },
      "outputs": [
        {
          "output_type": "execute_result",
          "data": {
            "text/plain": [
              "0.4411873605411041"
            ]
          },
          "metadata": {},
          "execution_count": 61
        }
      ],
      "source": [
        "metrics.f1_score(y_test,y_pred_grid,average='macro')"
      ]
    },
    {
      "cell_type": "code",
      "execution_count": null,
      "metadata": {
        "colab": {
          "background_save": true,
          "base_uri": "https://localhost:8080/"
        },
        "id": "J6GnQ6lza9Pq",
        "outputId": "8790b73d-e19e-450c-822f-749e9e3da38a"
      },
      "outputs": [
        {
          "data": {
            "text/plain": [
              "0.5549572273554355"
            ]
          },
          "execution_count": 22,
          "metadata": {},
          "output_type": "execute_result"
        }
      ],
      "source": [
        "lda_grid.best_score_"
      ]
    },
    {
      "cell_type": "code",
      "execution_count": null,
      "metadata": {
        "colab": {
          "background_save": true,
          "base_uri": "https://localhost:8080/"
        },
        "id": "H_rS3Lt95ob-",
        "outputId": "7fb92760-5043-46d7-9467-94a01ea5ff76"
      },
      "outputs": [
        {
          "data": {
            "text/plain": [
              "{'n_components': 1,\n",
              " 'shrinkage': 0.001,\n",
              " 'solver': 'lsqr',\n",
              " 'store_covariance': True,\n",
              " 'tol': 0.1}"
            ]
          },
          "execution_count": 23,
          "metadata": {},
          "output_type": "execute_result"
        }
      ],
      "source": [
        "lda_grid.best_params_"
      ]
    },
    {
      "cell_type": "code",
      "execution_count": null,
      "metadata": {
        "colab": {
          "background_save": true,
          "base_uri": "https://localhost:8080/",
          "height": 368
        },
        "id": "mFZGa93RO2Wx",
        "outputId": "c6dadbaf-f807-490e-c3f3-97aa62dd1d04"
      },
      "outputs": [
        {
          "data": {
            "text/plain": [
              "Text(0.5, 1.0, 'LDA Tuned Confusion Matrix')"
            ]
          },
          "execution_count": 24,
          "metadata": {},
          "output_type": "execute_result"
        },
        {
          "data": {
            "image/png": "[encoded data removed]",
            "text/plain": [
              "<Figure size 360x360 with 1 Axes>"
            ]
          },
          "metadata": {},
          "output_type": "display_data"
        }
      ],
      "source": [
        "mat = confusion_matrix(y_test, y_pred_grid)\n",
        "plt.figure(figsize=(5,5))\n",
        "\n",
        "# np.unique(y_train) gives labels in a 'sorted' fashion appropriate to the outputs\n",
        "sns.heatmap(mat.T, square=True, annot=True, fmt='d', cbar=False, \n",
        "            xticklabels=np.unique(y_train), yticklabels=np.unique(y_train))\n",
        "plt.xlabel('true label')\n",
        "plt.ylabel('predicted label')\n",
        "plt.title('LDA Tuned Confusion Matrix')"
      ]
    },
    {
      "cell_type": "markdown",
      "source": [
        "Quadratic Discriminant Analysis"
      ],
      "metadata": {
        "id": "KOKcaMEJhQuH"
      }
    },
    {
      "cell_type": "code",
      "execution_count": null,
      "metadata": {
        "colab": {
          "base_uri": "https://localhost:8080/"
        },
        "id": "Hxz9jEbdjuw3",
        "outputId": "6b7d9c04-2dcf-4e55-b812-6a546b51f387"
      },
      "outputs": [
        {
          "output_type": "stream",
          "name": "stderr",
          "text": [
            "/usr/local/lib/python3.8/dist-packages/sklearn/discriminant_analysis.py:878: UserWarning: Variables are collinear\n",
            "  warnings.warn(\"Variables are collinear\")\n"
          ]
        }
      ],
      "source": [
        "qda=QuadraticDiscriminantAnalysis()\n",
        "qda.fit(X_train,y_train)\n",
        "y_pred_qda=qda.predict(X_test)"
      ]
    },
    {
      "cell_type": "code",
      "execution_count": null,
      "metadata": {
        "colab": {
          "base_uri": "https://localhost:8080/"
        },
        "id": "cIEExoa8lsWE",
        "outputId": "d232ce3a-7a2b-482b-a927-b1b2e548ed2a"
      },
      "outputs": [
        {
          "output_type": "execute_result",
          "data": {
            "text/plain": [
              "0.24903174407311576"
            ]
          },
          "metadata": {},
          "execution_count": 63
        }
      ],
      "source": [
        "\n",
        "metrics.f1_score(y_test,y_pred_qda,average='macro')"
      ]
    },
    {
      "cell_type": "code",
      "execution_count": null,
      "metadata": {
        "colab": {
          "base_uri": "https://localhost:8080/"
        },
        "id": "gOnoihMJBmZ3",
        "outputId": "31fe47d9-d2d2-48ff-f63a-6f63cef31d35"
      },
      "outputs": [
        {
          "output_type": "execute_result",
          "data": {
            "text/plain": [
              "0.23454447825308752"
            ]
          },
          "metadata": {},
          "execution_count": 64
        }
      ],
      "source": [
        "metrics.accuracy_score(y_test,y_pred_qda)"
      ]
    },
    {
      "cell_type": "code",
      "execution_count": null,
      "metadata": {
        "colab": {
          "base_uri": "https://localhost:8080/",
          "height": 368
        },
        "id": "tUiD-E0wPADW",
        "outputId": "6ff9155a-6f99-4fac-c67d-445af44414a1"
      },
      "outputs": [
        {
          "output_type": "execute_result",
          "data": {
            "text/plain": [
              "Text(0.5, 1.0, 'QDA Confusion Matrix')"
            ]
          },
          "metadata": {},
          "execution_count": 65
        },
        {
          "output_type": "display_data",
          "data": {
            "text/plain": [
              "<Figure size 360x360 with 1 Axes>"
            ],
            "image/png": "[encoded data removed]"
          },
          "metadata": {
            "needs_background": "light"
          }
        }
      ],
      "source": [
        "mat = confusion_matrix(y_test, y_pred_qda)\n",
        "plt.figure(figsize=(5,5))\n",
        "\n",
        "# np.unique(y_train) gives labels in a 'sorted' fashion appropriate to the outputs\n",
        "sns.heatmap(mat.T, square=True, annot=True, fmt='d', cbar=False, \n",
        "            xticklabels=np.unique(y_train), yticklabels=np.unique(y_train))\n",
        "plt.xlabel('true label')\n",
        "plt.ylabel('predicted label')\n",
        "plt.title('QDA Confusion Matrix')"
      ]
    },
    {
      "cell_type": "code",
      "execution_count": null,
      "metadata": {
        "id": "jmvrXDgVaXQb"
      },
      "outputs": [],
      "source": [
        "qda_1=QuadraticDiscriminantAnalysis()"
      ]
    },
    {
      "cell_type": "code",
      "execution_count": null,
      "metadata": {
        "id": "9UDc51ZPlvI1"
      },
      "outputs": [],
      "source": [
        "parameters_2 = {'reg_param': (0.00001, 0.0001, 0.001,0.01, 0.1),\n",
        "                'store_covariance': (True, False),\n",
        "                'tol': (0.0001, 0.001,0.01, 0.1)\n",
        "                   }\n",
        "qda_grid=GridSearchCV(\n",
        "    estimator=qda_1,\n",
        "    param_grid=parameters_2,\n",
        "    scoring = 'accuracy',\n",
        "    n_jobs = -1,\n",
        ")"
      ]
    },
    {
      "cell_type": "code",
      "execution_count": null,
      "metadata": {
        "colab": {
          "base_uri": "https://localhost:8080/"
        },
        "id": "dleKYQmVbcrq",
        "outputId": "b645938b-1082-4afb-eea0-bcb9e5e3deab"
      },
      "outputs": [
        {
          "output_type": "stream",
          "name": "stderr",
          "text": [
            "/usr/local/lib/python3.8/dist-packages/sklearn/discriminant_analysis.py:878: UserWarning: Variables are collinear\n",
            "  warnings.warn(\"Variables are collinear\")\n"
          ]
        }
      ],
      "source": [
        "qda_grid.fit(X_train,y_train)\n",
        "y_pred_qda_grid=qda_grid.predict(X_test)"
      ]
    },
    {
      "cell_type": "code",
      "execution_count": null,
      "metadata": {
        "colab": {
          "base_uri": "https://localhost:8080/"
        },
        "id": "CW-06wOPBUJH",
        "outputId": "97657181-275f-4f9d-adcc-0cf3f529eb8b"
      },
      "outputs": [
        {
          "output_type": "execute_result",
          "data": {
            "text/plain": [
              "0.23916234114909612"
            ]
          },
          "metadata": {},
          "execution_count": 69
        }
      ],
      "source": [
        "metrics.accuracy_score(y_test,y_pred_qda_grid)"
      ]
    },
    {
      "cell_type": "code",
      "execution_count": null,
      "metadata": {
        "colab": {
          "base_uri": "https://localhost:8080/"
        },
        "id": "28TZy1ZMbpk7",
        "outputId": "5c2f8c62-3127-4464-d6c0-8265308cc6ed"
      },
      "outputs": [
        {
          "output_type": "execute_result",
          "data": {
            "text/plain": [
              "0.25363785030395464"
            ]
          },
          "metadata": {},
          "execution_count": 70
        }
      ],
      "source": [
        "metrics.f1_score(y_test,y_pred_qda_grid,average='macro')"
      ]
    },
    {
      "cell_type": "code",
      "execution_count": null,
      "metadata": {
        "colab": {
          "background_save": true
        },
        "id": "OEWZ-zA0caya",
        "outputId": "bd9bfe77-b0e5-4546-b8f8-c8ce8274c4e4"
      },
      "outputs": [
        {
          "data": {
            "text/plain": [
              "0.44890318861044926"
            ]
          },
          "execution_count": 34,
          "metadata": {},
          "output_type": "execute_result"
        }
      ],
      "source": [
        "qda_grid.best_score_"
      ]
    },
    {
      "cell_type": "code",
      "execution_count": null,
      "metadata": {
        "colab": {
          "background_save": true
        },
        "id": "elvmFUh8ceJx",
        "outputId": "c94793ab-b1c1-40d7-8b31-a4292d2ebfdf"
      },
      "outputs": [
        {
          "data": {
            "text/plain": [
              "Text(0.5, 1.0, 'QDA Tuned Confusion Matrix')"
            ]
          },
          "execution_count": 35,
          "metadata": {},
          "output_type": "execute_result"
        },
        {
          "data": {
            "image/png": "[encoded data removed]",
            "text/plain": [
              "<Figure size 360x360 with 1 Axes>"
            ]
          },
          "metadata": {},
          "output_type": "display_data"
        }
      ],
      "source": [
        "mat = confusion_matrix(y_test, y_pred_qda_grid)\n",
        "plt.figure(figsize=(5,5))\n",
        "\n",
        "# np.unique(y_train) gives labels in a 'sorted' fashion appropriate to the outputs\n",
        "sns.heatmap(mat.T, square=True, annot=True, fmt='d', cbar=False, \n",
        "            xticklabels=np.unique(y_train), yticklabels=np.unique(y_train))\n",
        "plt.xlabel('true label')\n",
        "plt.ylabel('predicted label')\n",
        "plt.title('QDA Tuned Confusion Matrix')"
      ]
    },
    {
      "cell_type": "code",
      "execution_count": null,
      "metadata": {
        "colab": {
          "background_save": true
        },
        "id": "lvHJUukLuxhY",
        "outputId": "0776c89c-39c9-43bd-ae83-6ada25b89f57"
      },
      "outputs": [
        {
          "data": {
            "text/plain": [
              "0.23916234114909612"
            ]
          },
          "execution_count": 36,
          "metadata": {},
          "output_type": "execute_result"
        }
      ],
      "source": [
        "metrics.accuracy_score(y_test,y_pred_qda_grid)"
      ]
    },
    {
      "cell_type": "code",
      "execution_count": null,
      "metadata": {
        "id": "rHcWcSlZBrn5"
      },
      "outputs": [],
      "source": []
    }
  ],
  "metadata": {
    "accelerator": "GPU",
    "colab": {
      "provenance": []
    },
    "gpuClass": "standard",
    "kernelspec": {
      "display_name": "Python 3",
      "name": "python3"
    },
    "language_info": {
      "name": "python"
    }
  },
  "nbformat": 4,
  "nbformat_minor": 0
}