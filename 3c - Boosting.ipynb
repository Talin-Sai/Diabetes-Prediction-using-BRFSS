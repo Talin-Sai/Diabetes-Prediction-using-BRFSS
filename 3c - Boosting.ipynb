{
  "nbformat": 4,
  "nbformat_minor": 0,
  "metadata": {
    "colab": {
      "provenance": []
    },
    "kernelspec": {
      "name": "python3",
      "display_name": "Python 3"
    },
    "language_info": {
      "name": "python"
    },
    "gpuClass": "standard"
  },
  "cells": [
    {
      "cell_type": "code",
      "execution_count": null,
      "metadata": {
        "colab": {
          "base_uri": "https://localhost:8080/"
        },
        "id": "fDkZT-EOo0go",
        "outputId": "733e0887-0e30-4b57-88c7-1a784a578161"
      },
      "outputs": [
        {
          "output_type": "stream",
          "name": "stdout",
          "text": [
            "Mounted at /content/drive\n"
          ]
        }
      ],
      "source": [
        "from google.colab import drive\n",
        "\n",
        "drive.mount('/content/drive', force_remount=True)"
      ]
    },
    {
      "cell_type": "code",
      "source": [
        "import pandas as pd\n",
        "import numpy as np"
      ],
      "metadata": {
        "id": "i3dqrB8LpRaG"
      },
      "execution_count": null,
      "outputs": []
    },
    {
      "cell_type": "code",
      "source": [
        "# Replace with reading in train and test data from wherever\n",
        "train = pd.read_csv('/content/drive/MyDrive/Stats_Learning_Final_Project/train.csv')\n",
        "test = pd.read_csv('/content/drive/MyDrive/Stats_Learning_Final_Project/test.csv')"
      ],
      "metadata": {
        "id": "9ANgqxD2pVZK"
      },
      "execution_count": null,
      "outputs": []
    },
    {
      "cell_type": "code",
      "source": [
        "train = train.drop('Unnamed: 0', axis = 1)\n",
        "test = test.drop('Unnamed: 0', axis = 1)"
      ],
      "metadata": {
        "id": "IV81YrSvq4dl"
      },
      "execution_count": null,
      "outputs": []
    },
    {
      "cell_type": "code",
      "source": [
        "X_train = train.iloc[:,:-1]\n",
        "y_train = train.iloc[:,-1]\n",
        "X_test = test.iloc[:,:-1]\n",
        "y_test = test.iloc[:,-1]"
      ],
      "metadata": {
        "id": "8R0Gwmw3sBS9"
      },
      "execution_count": null,
      "outputs": []
    },
    {
      "cell_type": "code",
      "source": [
        "train_sample = train.groupby('DiabetesStatus', group_keys=False).apply(lambda x: x.sample(1000))"
      ],
      "metadata": {
        "id": "3O5S9Q50bCbM"
      },
      "execution_count": null,
      "outputs": []
    },
    {
      "cell_type": "code",
      "source": [
        "X_train_sample = train_sample.iloc[:,:-1]\n",
        "y_train_sample = train_sample.iloc[:,-1]"
      ],
      "metadata": {
        "id": "eph4VzTkbjDj"
      },
      "execution_count": null,
      "outputs": []
    },
    {
      "cell_type": "markdown",
      "source": [
        "# Gradient Boosting"
      ],
      "metadata": {
        "id": "qZkYqbhG-WhA"
      }
    },
    {
      "cell_type": "code",
      "source": [
        "from sklearn.ensemble import GradientBoostingClassifier\n",
        "from sklearn.model_selection import GridSearchCV, RandomizedSearchCV"
      ],
      "metadata": {
        "id": "tKzCFf3urFST"
      },
      "execution_count": null,
      "outputs": []
    },
    {
      "cell_type": "markdown",
      "source": [
        "## Hyperparameter Tuning"
      ],
      "metadata": {
        "id": "ikTbJFCXtssB"
      }
    },
    {
      "cell_type": "code",
      "source": [
        "gb = GradientBoostingClassifier(n_estimators=100, learning_rate=1.0, max_depth=1, random_state=0)"
      ],
      "metadata": {
        "id": "BeMez0FXrvZp"
      },
      "execution_count": null,
      "outputs": []
    },
    {
      "cell_type": "code",
      "source": [
        "gb.fit(X_train_sample,y_train_sample)"
      ],
      "metadata": {
        "colab": {
          "base_uri": "https://localhost:8080/"
        },
        "id": "KH45_1XHsgc8",
        "outputId": "edeeff83-17f5-473f-a8f1-fa8990bcb69a"
      },
      "execution_count": null,
      "outputs": [
        {
          "output_type": "execute_result",
          "data": {
            "text/plain": [
              "GradientBoostingClassifier(learning_rate=1.0, max_depth=1, random_state=0)"
            ]
          },
          "metadata": {},
          "execution_count": 50
        }
      ]
    },
    {
      "cell_type": "code",
      "source": [
        "gb.score(X_test,y_test)"
      ],
      "metadata": {
        "colab": {
          "base_uri": "https://localhost:8080/"
        },
        "id": "IxWDnfbixv_6",
        "outputId": "f6d75590-651d-4339-cc4d-9caf1c32947d"
      },
      "execution_count": null,
      "outputs": [
        {
          "output_type": "execute_result",
          "data": {
            "text/plain": [
              "0.7213531412206909"
            ]
          },
          "metadata": {},
          "execution_count": 51
        }
      ]
    },
    {
      "cell_type": "code",
      "source": [
        "param_test1 = {\n",
        " 'n_estimators':range(100,501,50)\n",
        "}"
      ],
      "metadata": {
        "id": "32eRWJlzzFG6"
      },
      "execution_count": null,
      "outputs": []
    },
    {
      "cell_type": "code",
      "source": [
        "gsearch1 = GridSearchCV(GradientBoostingClassifier(learning_rate = 1, random_state=0), param_test1, n_jobs=-1,verbose=3)\n",
        "gsearch1.fit(X_train_sample,y_train_sample)"
      ],
      "metadata": {
        "id": "JxQeC8KM0kBf",
        "colab": {
          "base_uri": "https://localhost:8080/"
        },
        "outputId": "6e198698-048f-4fd6-b1fa-11e9f4d1605a"
      },
      "execution_count": null,
      "outputs": [
        {
          "output_type": "stream",
          "name": "stdout",
          "text": [
            "Fitting 5 folds for each of 9 candidates, totalling 45 fits\n"
          ]
        },
        {
          "output_type": "execute_result",
          "data": {
            "text/plain": [
              "GridSearchCV(estimator=GradientBoostingClassifier(learning_rate=1,\n",
              "                                                  random_state=0),\n",
              "             n_jobs=-1, param_grid={'n_estimators': range(100, 501, 50)},\n",
              "             verbose=3)"
            ]
          },
          "metadata": {},
          "execution_count": 53
        }
      ]
    },
    {
      "cell_type": "code",
      "source": [
        "gsearch1.best_params_, gsearch1.best_score_"
      ],
      "metadata": {
        "id": "ZQEPuyv71C1G",
        "colab": {
          "base_uri": "https://localhost:8080/"
        },
        "outputId": "cd80572c-d7ab-4dae-df92-0ab7a3419b7a"
      },
      "execution_count": null,
      "outputs": [
        {
          "output_type": "execute_result",
          "data": {
            "text/plain": [
              "({'n_estimators': 300}, 0.6796666666666666)"
            ]
          },
          "metadata": {},
          "execution_count": 54
        }
      ]
    },
    {
      "cell_type": "code",
      "source": [
        "param_test1b = {\n",
        " 'n_estimators':range(260,341,20)\n",
        "}"
      ],
      "metadata": {
        "id": "04RW75Y2lr-i"
      },
      "execution_count": null,
      "outputs": []
    },
    {
      "cell_type": "code",
      "source": [
        "gsearch1b = GridSearchCV(GradientBoostingClassifier(learning_rate = 1, random_state=0), param_test1b, n_jobs=-1,verbose=3)\n",
        "gsearch1b.fit(X_train_sample,y_train_sample)"
      ],
      "metadata": {
        "colab": {
          "base_uri": "https://localhost:8080/"
        },
        "id": "Iaug_ja2l2zu",
        "outputId": "b3e001e8-b333-4dc3-c0ec-59e41fd2d5d6"
      },
      "execution_count": null,
      "outputs": [
        {
          "output_type": "stream",
          "name": "stdout",
          "text": [
            "Fitting 5 folds for each of 5 candidates, totalling 25 fits\n"
          ]
        },
        {
          "output_type": "execute_result",
          "data": {
            "text/plain": [
              "GridSearchCV(estimator=GradientBoostingClassifier(learning_rate=1,\n",
              "                                                  random_state=0),\n",
              "             n_jobs=-1, param_grid={'n_estimators': range(260, 341, 20)},\n",
              "             verbose=3)"
            ]
          },
          "metadata": {},
          "execution_count": 60
        }
      ]
    },
    {
      "cell_type": "code",
      "source": [
        "gsearch1b.best_params_, gsearch1b.best_score_"
      ],
      "metadata": {
        "colab": {
          "base_uri": "https://localhost:8080/"
        },
        "id": "ycKT0p2JnreD",
        "outputId": "26ede64b-33b0-41e1-c2d1-6bff26e38f94"
      },
      "execution_count": null,
      "outputs": [
        {
          "output_type": "execute_result",
          "data": {
            "text/plain": [
              "({'n_estimators': 300}, 0.6796666666666666)"
            ]
          },
          "metadata": {},
          "execution_count": 61
        }
      ]
    },
    {
      "cell_type": "code",
      "source": [
        "param_test2 = {\n",
        " 'max_depth':range(3,10,2),\n",
        " 'min_samples_split':[0.1,0.2,0.3]\n",
        "}"
      ],
      "metadata": {
        "id": "ZlR8WPqpyoC0"
      },
      "execution_count": null,
      "outputs": []
    },
    {
      "cell_type": "code",
      "source": [
        "gsearch2 = GridSearchCV(GradientBoostingClassifier(learning_rate = 1, n_estimators=300,random_state=0), param_test2, n_jobs=-1,verbose=3)\n",
        "gsearch2.fit(X_train_sample,y_train_sample)"
      ],
      "metadata": {
        "colab": {
          "base_uri": "https://localhost:8080/"
        },
        "id": "fnKI5KGPnzb6",
        "outputId": "f8b5a8f9-bd5c-462a-9e19-192253c56836"
      },
      "execution_count": null,
      "outputs": [
        {
          "output_type": "stream",
          "name": "stdout",
          "text": [
            "Fitting 5 folds for each of 16 candidates, totalling 80 fits\n"
          ]
        },
        {
          "output_type": "stream",
          "name": "stderr",
          "text": [
            "/usr/local/lib/python3.8/dist-packages/sklearn/model_selection/_validation.py:372: FitFailedWarning: \n",
            "20 fits failed out of a total of 80.\n",
            "The score on these train-test partitions for these parameters will be set to nan.\n",
            "If these failures are not expected, you can try to debug them by setting error_score='raise'.\n",
            "\n",
            "Below are more details about the failures:\n",
            "--------------------------------------------------------------------------------\n",
            "20 fits failed with the following error:\n",
            "Traceback (most recent call last):\n",
            "  File \"/usr/local/lib/python3.8/dist-packages/sklearn/model_selection/_validation.py\", line 680, in _fit_and_score\n",
            "    estimator.fit(X_train, y_train, **fit_params)\n",
            "  File \"/usr/local/lib/python3.8/dist-packages/sklearn/ensemble/_gb.py\", line 586, in fit\n",
            "    n_stages = self._fit_stages(\n",
            "  File \"/usr/local/lib/python3.8/dist-packages/sklearn/ensemble/_gb.py\", line 663, in _fit_stages\n",
            "    raw_predictions = self._fit_stage(\n",
            "  File \"/usr/local/lib/python3.8/dist-packages/sklearn/ensemble/_gb.py\", line 246, in _fit_stage\n",
            "    tree.fit(X, residual, sample_weight=sample_weight, check_input=False)\n",
            "  File \"/usr/local/lib/python3.8/dist-packages/sklearn/tree/_classes.py\", line 1315, in fit\n",
            "    super().fit(\n",
            "  File \"/usr/local/lib/python3.8/dist-packages/sklearn/tree/_classes.py\", line 250, in fit\n",
            "    raise ValueError(\n",
            "ValueError: min_samples_split must be an integer greater than 1 or a float in (0.0, 1.0]; got the integer 0\n",
            "\n",
            "  warnings.warn(some_fits_failed_message, FitFailedWarning)\n",
            "/usr/local/lib/python3.8/dist-packages/sklearn/model_selection/_search.py:969: UserWarning: One or more of the test scores are non-finite: [       nan 0.67233333 0.65966667 0.66233333        nan 0.66\n",
            " 0.67333333 0.65933333        nan 0.67133333 0.66733333 0.655\n",
            "        nan 0.674      0.67133333 0.65766667]\n",
            "  warnings.warn(\n"
          ]
        },
        {
          "output_type": "execute_result",
          "data": {
            "text/plain": [
              "GridSearchCV(estimator=GradientBoostingClassifier(learning_rate=1,\n",
              "                                                  n_estimators=300,\n",
              "                                                  random_state=0),\n",
              "             n_jobs=-1,\n",
              "             param_grid={'max_depth': range(3, 10, 2),\n",
              "                         'min_samples_split': [0, 0.1, 0.2, 0.3]},\n",
              "             verbose=3)"
            ]
          },
          "metadata": {},
          "execution_count": 68
        }
      ]
    },
    {
      "cell_type": "code",
      "source": [
        "gsearch2.best_params_, gsearch2.best_score_"
      ],
      "metadata": {
        "colab": {
          "base_uri": "https://localhost:8080/"
        },
        "id": "Q1SPt7mPsCna",
        "outputId": "694dbebc-2f5e-4793-bf78-8643e15f7430"
      },
      "execution_count": null,
      "outputs": [
        {
          "output_type": "execute_result",
          "data": {
            "text/plain": [
              "({'max_depth': 9, 'min_samples_split': 0.1}, 0.674)"
            ]
          },
          "metadata": {},
          "execution_count": 69
        }
      ]
    },
    {
      "cell_type": "code",
      "source": [
        "param_test2b = {\n",
        " 'max_depth':[8,9,10,11],\n",
        " 'min_samples_split':[0.02,0.06,0.1]\n",
        "}"
      ],
      "metadata": {
        "id": "sH_ydcGgsK2V"
      },
      "execution_count": null,
      "outputs": []
    },
    {
      "cell_type": "code",
      "source": [
        "gsearch2b = GridSearchCV(GradientBoostingClassifier(learning_rate = 1, n_estimators=300,random_state=0), param_test2b, n_jobs=-1,verbose=3)\n",
        "gsearch2b.fit(X_train_sample,y_train_sample)"
      ],
      "metadata": {
        "colab": {
          "base_uri": "https://localhost:8080/"
        },
        "id": "h8uvSEWzsWa9",
        "outputId": "cdf46583-f16d-4ceb-c734-705c3965369b"
      },
      "execution_count": null,
      "outputs": [
        {
          "output_type": "stream",
          "name": "stdout",
          "text": [
            "Fitting 5 folds for each of 12 candidates, totalling 60 fits\n"
          ]
        },
        {
          "output_type": "execute_result",
          "data": {
            "text/plain": [
              "GridSearchCV(estimator=GradientBoostingClassifier(learning_rate=1,\n",
              "                                                  n_estimators=300,\n",
              "                                                  random_state=0),\n",
              "             n_jobs=-1,\n",
              "             param_grid={'max_depth': [8, 9, 10, 11],\n",
              "                         'min_samples_split': [0.02, 0.06, 0.1]},\n",
              "             verbose=3)"
            ]
          },
          "metadata": {},
          "execution_count": 71
        }
      ]
    },
    {
      "cell_type": "code",
      "source": [
        "gsearch2b.best_params_, gsearch2b.best_score_"
      ],
      "metadata": {
        "colab": {
          "base_uri": "https://localhost:8080/"
        },
        "id": "DCjGy7CKshMH",
        "outputId": "f95a8c04-46ea-4d1e-fa61-63897f343afa"
      },
      "execution_count": null,
      "outputs": [
        {
          "output_type": "execute_result",
          "data": {
            "text/plain": [
              "({'max_depth': 8, 'min_samples_split': 0.02}, 0.6856666666666666)"
            ]
          },
          "metadata": {},
          "execution_count": 72
        }
      ]
    },
    {
      "cell_type": "code",
      "source": [
        "param_test2c = {\n",
        " 'max_depth':[7,8,9],\n",
        " 'min_samples_split':[0.005,0.01,0.015,0.02]\n",
        "}"
      ],
      "metadata": {
        "id": "x_fMPvdrshMF"
      },
      "execution_count": null,
      "outputs": []
    },
    {
      "cell_type": "code",
      "source": [
        "gsearch2c = GridSearchCV(GradientBoostingClassifier(learning_rate = 1, n_estimators=300,random_state=0), param_test2c, n_jobs=-1,verbose=3)\n",
        "gsearch2c.fit(X_train_sample,y_train_sample)"
      ],
      "metadata": {
        "colab": {
          "base_uri": "https://localhost:8080/"
        },
        "outputId": "b180f9a5-60d9-4f75-a628-bf0729307acb",
        "id": "jvp-Hi4_shMF"
      },
      "execution_count": null,
      "outputs": [
        {
          "output_type": "stream",
          "name": "stdout",
          "text": [
            "Fitting 5 folds for each of 12 candidates, totalling 60 fits\n"
          ]
        },
        {
          "output_type": "execute_result",
          "data": {
            "text/plain": [
              "GridSearchCV(estimator=GradientBoostingClassifier(learning_rate=1,\n",
              "                                                  n_estimators=300,\n",
              "                                                  random_state=0),\n",
              "             n_jobs=-1,\n",
              "             param_grid={'max_depth': [7, 8, 9],\n",
              "                         'min_samples_split': [0.005, 0.01, 0.015, 0.02]},\n",
              "             verbose=3)"
            ]
          },
          "metadata": {},
          "execution_count": 74
        }
      ]
    },
    {
      "cell_type": "code",
      "source": [
        "gsearch2c.best_params_, gsearch2c.best_score_"
      ],
      "metadata": {
        "colab": {
          "base_uri": "https://localhost:8080/"
        },
        "id": "XUdvvxauset4",
        "outputId": "bcc361db-cc87-45e6-90da-15f5aad4136d"
      },
      "execution_count": null,
      "outputs": [
        {
          "output_type": "execute_result",
          "data": {
            "text/plain": [
              "({'max_depth': 8, 'min_samples_split': 0.01}, 0.6876666666666666)"
            ]
          },
          "metadata": {},
          "execution_count": 75
        }
      ]
    },
    {
      "cell_type": "code",
      "source": [
        "param_test3 = {\n",
        " 'max_features':[0.3,0.6,0.9, 1],\n",
        "}"
      ],
      "metadata": {
        "id": "zNDw3my91ymI"
      },
      "execution_count": null,
      "outputs": []
    },
    {
      "cell_type": "code",
      "source": [
        "gsearch3 = GridSearchCV(GradientBoostingClassifier(learning_rate = 1, n_estimators=300,random_state=0, max_depth = 8, min_samples_split = 0.01), param_test3, n_jobs=-1,verbose=3)\n",
        "gsearch3.fit(X_train_sample,y_train_sample)"
      ],
      "metadata": {
        "colab": {
          "base_uri": "https://localhost:8080/"
        },
        "outputId": "9ce3d6e9-a7a6-422e-d2d4-5a05410d5a6d",
        "id": "kch2fRE91ymU"
      },
      "execution_count": null,
      "outputs": [
        {
          "output_type": "stream",
          "name": "stdout",
          "text": [
            "Fitting 5 folds for each of 4 candidates, totalling 20 fits\n"
          ]
        },
        {
          "output_type": "execute_result",
          "data": {
            "text/plain": [
              "GridSearchCV(estimator=GradientBoostingClassifier(learning_rate=1, max_depth=8,\n",
              "                                                  min_samples_split=0.01,\n",
              "                                                  n_estimators=300,\n",
              "                                                  random_state=0),\n",
              "             n_jobs=-1, param_grid={'max_features': [0.3, 0.6, 0.9, 1]},\n",
              "             verbose=3)"
            ]
          },
          "metadata": {},
          "execution_count": 77
        }
      ]
    },
    {
      "cell_type": "code",
      "source": [
        "gsearch3.best_params_, gsearch3.best_score_"
      ],
      "metadata": {
        "colab": {
          "base_uri": "https://localhost:8080/"
        },
        "id": "vMfCAVz91ymU",
        "outputId": "3386051d-2fc4-4e2e-ea71-7d631f06bf2d"
      },
      "execution_count": null,
      "outputs": [
        {
          "output_type": "execute_result",
          "data": {
            "text/plain": [
              "({'max_features': 0.3}, 0.683)"
            ]
          },
          "metadata": {},
          "execution_count": 78
        }
      ]
    },
    {
      "cell_type": "code",
      "source": [
        "param_test3b = {\n",
        " 'max_features':[0.1,0.2,0.3, 0.4,0.5],\n",
        "}"
      ],
      "metadata": {
        "id": "qNFLHHrZ3gKZ"
      },
      "execution_count": null,
      "outputs": []
    },
    {
      "cell_type": "code",
      "source": [
        "gsearch3b = GridSearchCV(GradientBoostingClassifier(learning_rate = 1, n_estimators=300,random_state=0, max_depth = 8, min_samples_split = 0.01), param_test3b, n_jobs=-1,verbose=3)\n",
        "gsearch3b.fit(X_train_sample,y_train_sample)"
      ],
      "metadata": {
        "colab": {
          "base_uri": "https://localhost:8080/"
        },
        "outputId": "1da59da8-891c-4eff-ec22-0f7cd0308d41",
        "id": "Z-0h0Xk73gKp"
      },
      "execution_count": null,
      "outputs": [
        {
          "output_type": "stream",
          "name": "stdout",
          "text": [
            "Fitting 5 folds for each of 5 candidates, totalling 25 fits\n"
          ]
        },
        {
          "output_type": "execute_result",
          "data": {
            "text/plain": [
              "GridSearchCV(estimator=GradientBoostingClassifier(learning_rate=1, max_depth=8,\n",
              "                                                  min_samples_split=0.01,\n",
              "                                                  n_estimators=300,\n",
              "                                                  random_state=0),\n",
              "             n_jobs=-1, param_grid={'max_features': [0.1, 0.2, 0.3, 0.4, 0.5]},\n",
              "             verbose=3)"
            ]
          },
          "metadata": {},
          "execution_count": 81
        }
      ]
    },
    {
      "cell_type": "code",
      "source": [
        "gsearch3b.best_params_, gsearch3b.best_score_"
      ],
      "metadata": {
        "colab": {
          "base_uri": "https://localhost:8080/"
        },
        "outputId": "33bbc9aa-b664-48eb-84bb-499dace30288",
        "id": "DAwLuR0H3gKq"
      },
      "execution_count": null,
      "outputs": [
        {
          "output_type": "execute_result",
          "data": {
            "text/plain": [
              "({'max_features': 0.3}, 0.683)"
            ]
          },
          "metadata": {},
          "execution_count": 83
        }
      ]
    },
    {
      "cell_type": "markdown",
      "source": [
        "## Tuned Model"
      ],
      "metadata": {
        "id": "252_-w2mtyIt"
      }
    },
    {
      "cell_type": "code",
      "source": [
        "gb_tuned = GradientBoostingClassifier(learning_rate=0.03,n_estimators=1000,random_state=0, max_depth=8, min_samples_split=0.01, max_features=0.3, n_iter_no_change = 50)"
      ],
      "metadata": {
        "id": "7Ic5AltV5N0U"
      },
      "execution_count": null,
      "outputs": []
    },
    {
      "cell_type": "code",
      "source": [
        "gb_tuned.fit(X_train_sample,y_train_sample)"
      ],
      "metadata": {
        "colab": {
          "base_uri": "https://localhost:8080/"
        },
        "id": "ScfAH36O5r4Z",
        "outputId": "56a2415b-1412-477d-b4f8-3ea70deefdb1"
      },
      "execution_count": null,
      "outputs": [
        {
          "output_type": "execute_result",
          "data": {
            "text/plain": [
              "GradientBoostingClassifier(learning_rate=0.03, max_depth=8, max_features=0.3,\n",
              "                           min_samples_split=0.01, n_estimators=1000,\n",
              "                           n_iter_no_change=50, random_state=0)"
            ]
          },
          "metadata": {},
          "execution_count": 14
        }
      ]
    },
    {
      "cell_type": "code",
      "source": [
        "gb_tuned.score(X_test,y_test)"
      ],
      "metadata": {
        "colab": {
          "base_uri": "https://localhost:8080/"
        },
        "id": "DKSDp2vx6o-i",
        "outputId": "bf97d071-4b8a-46f2-e793-26af51de8d46"
      },
      "execution_count": null,
      "outputs": [
        {
          "output_type": "execute_result",
          "data": {
            "text/plain": [
              "0.7244317164846966"
            ]
          },
          "metadata": {},
          "execution_count": 15
        }
      ]
    },
    {
      "cell_type": "code",
      "source": [
        "gb_tuned.estimators_.shape"
      ],
      "metadata": {
        "colab": {
          "base_uri": "https://localhost:8080/"
        },
        "id": "nYlJsx-N521a",
        "outputId": "4b55a050-f65c-4faf-9b9d-512bba068737"
      },
      "execution_count": null,
      "outputs": [
        {
          "output_type": "execute_result",
          "data": {
            "text/plain": [
              "(218, 3)"
            ]
          },
          "metadata": {},
          "execution_count": 16
        }
      ]
    },
    {
      "cell_type": "code",
      "source": [
        "gb_tuned = GradientBoostingClassifier(learning_rate=0.03,n_estimators=218,random_state=0, max_depth=8, min_samples_split=0.01, max_features=0.3)"
      ],
      "metadata": {
        "id": "7kZ1JGLR6RXx"
      },
      "execution_count": null,
      "outputs": []
    },
    {
      "cell_type": "code",
      "source": [
        "gb_tuned.fit(X_train,y_train)"
      ],
      "metadata": {
        "colab": {
          "base_uri": "https://localhost:8080/"
        },
        "id": "eD_kvDDO6jt3",
        "outputId": "cd44b495-7a50-4082-a386-38f8a8cd7f67"
      },
      "execution_count": null,
      "outputs": [
        {
          "output_type": "execute_result",
          "data": {
            "text/plain": [
              "GradientBoostingClassifier(learning_rate=0.03, max_depth=8, max_features=0.3,\n",
              "                           min_samples_split=0.01, n_estimators=218,\n",
              "                           random_state=0)"
            ]
          },
          "metadata": {},
          "execution_count": 18
        }
      ]
    },
    {
      "cell_type": "code",
      "source": [
        "gb_tuned.score(X_test,y_test)"
      ],
      "metadata": {
        "colab": {
          "base_uri": "https://localhost:8080/"
        },
        "id": "qnp6u2dw61sy",
        "outputId": "9f5d2390-11bf-418e-8d4c-21a5a30528bf"
      },
      "execution_count": null,
      "outputs": [
        {
          "output_type": "execute_result",
          "data": {
            "text/plain": [
              "0.7538929658134956"
            ]
          },
          "metadata": {},
          "execution_count": 19
        }
      ]
    },
    {
      "cell_type": "code",
      "source": [
        "from sklearn.metrics import confusion_matrix, f1_score\n",
        "import matplotlib.pyplot as plt\n",
        "import seaborn as sns"
      ],
      "metadata": {
        "id": "GjbpttEc8NlI"
      },
      "execution_count": null,
      "outputs": []
    },
    {
      "cell_type": "code",
      "source": [
        "pred_labels = gb_tuned.predict(X_test)"
      ],
      "metadata": {
        "id": "avmwDqhF8iEy"
      },
      "execution_count": null,
      "outputs": []
    },
    {
      "cell_type": "code",
      "source": [
        "f1_score(y_test, pred_labels, average = 'macro')"
      ],
      "metadata": {
        "colab": {
          "base_uri": "https://localhost:8080/"
        },
        "id": "RkVEkh-Ku5d8",
        "outputId": "a20f7f6c-abba-46e8-9bc5-ce3a83042dde"
      },
      "execution_count": null,
      "outputs": [
        {
          "output_type": "execute_result",
          "data": {
            "text/plain": [
              "0.4537549896057695"
            ]
          },
          "metadata": {},
          "execution_count": 22
        }
      ]
    },
    {
      "cell_type": "code",
      "source": [
        "mat = confusion_matrix(y_test, pred_labels)\n",
        "plt.figure(figsize=(5,5))\n",
        "\n",
        "# np.unique(y_train) gives labels in a 'sorted' fashion appropriate to the outputs\n",
        "sns.heatmap(mat.T, square=True, annot=True, fmt='d', cbar=False, \n",
        "            xticklabels=np.unique(y_train), yticklabels=np.unique(y_train))\n",
        "plt.xlabel('true label')\n",
        "plt.ylabel('predicted label')\n",
        "plt.title('Gradient Boost');"
      ],
      "metadata": {
        "colab": {
          "base_uri": "https://localhost:8080/",
          "height": 350
        },
        "id": "2Gfi3AGe8nwi",
        "outputId": "3714760b-cf55-4828-eaba-a07e2c742ff6"
      },
      "execution_count": null,
      "outputs": [
        {
          "output_type": "display_data",
          "data": {
            "text/plain": [
              "<Figure size 360x360 with 1 Axes>"
            ],
            "image/png": "[encoded data removed]"
          },
          "metadata": {
            "needs_background": "light"
          }
        }
      ]
    },
    {
      "cell_type": "markdown",
      "source": [
        "# XGBoost"
      ],
      "metadata": {
        "id": "Ds_FePE5-bEW"
      }
    },
    {
      "cell_type": "code",
      "source": [
        "import xgboost as xgb\n",
        "from sklearn.model_selection import GridSearchCV\n",
        "from sklearn.metrics import mean_squared_error\n",
        "from sklearn.metrics import r2_score\n",
        "import matplotlib.pyplot as plt"
      ],
      "metadata": {
        "id": "yMOr3goe-fbY"
      },
      "execution_count": null,
      "outputs": []
    },
    {
      "cell_type": "code",
      "source": [
        "y_train2 = y_train.replace({3:0,4:2})\n",
        "y_train_sample2 = y_train_sample.replace({3:0,4:2})\n",
        "y_test2 = y_test.replace({3:0,4:2})"
      ],
      "metadata": {
        "id": "UwiLsjruX0JG"
      },
      "execution_count": null,
      "outputs": []
    },
    {
      "cell_type": "code",
      "source": [
        "y_train_sample2.value_counts()"
      ],
      "metadata": {
        "colab": {
          "base_uri": "https://localhost:8080/"
        },
        "id": "TMzmzpoBYWuc",
        "outputId": "a9aaa09f-9eb4-4dcd-d085-1514475af4ea"
      },
      "execution_count": null,
      "outputs": [
        {
          "output_type": "execute_result",
          "data": {
            "text/plain": [
              "1.0    1000\n",
              "0.0    1000\n",
              "2.0    1000\n",
              "Name: DiabetesStatus, dtype: int64"
            ]
          },
          "metadata": {},
          "execution_count": 12
        }
      ]
    },
    {
      "cell_type": "markdown",
      "source": [
        "## Hyperparameter Tuning"
      ],
      "metadata": {
        "id": "a8I8z-pY4q7r"
      }
    },
    {
      "cell_type": "code",
      "source": [
        "def modelfit(alg, dtrain, predictors,useTrainCV=True, cv_folds=5, early_stopping_rounds=50):\n",
        "    \n",
        "    if useTrainCV:\n",
        "        xgb_param = alg.get_xgb_params()\n",
        "        xgtrain = xgb.DMatrix(dtrain[predictors].values, label=dtrain[target].values)\n",
        "        cvresult = xgb.cv(xgb_param, xgtrain, num_boost_round=alg.get_params()['n_estimators'], nfold=cv_folds,\n",
        "            metrics='error', early_stopping_rounds=early_stopping_rounds)\n",
        "        alg.set_params(n_estimators=cvresult.shape[0])\n",
        "    \n",
        "    #Fit the algorithm on the data\n",
        "    alg.fit(dtrain[predictors], dtrain[target],eval_metric='error')\n",
        "        \n",
        "    #Predict training set:\n",
        "    dtrain_predictions = alg.predict(dtrain[predictors])\n",
        "    #dtrain_predprob = alg.predict_proba(dtrain[predictors])[:,1]\n",
        "        \n",
        "    #Print model report:\n",
        "    #print(\"Accuracy : %.4g\" % metrics.accuracy_score(dtrain[target].values, dtrain_predictions))\n",
        "    #print(\"AUC Score (Train): %f\" % metrics.roc_auc_score(dtrain[target], dtrain_predprob))\n",
        "                    \n",
        "    #feat_imp = pd.Series(alg.booster().get_fscore()).sort_values(ascending=False)\n",
        "    #feat_imp.plot(kind='bar', title='Feature Importances')\n",
        "    #plt.ylabel('Feature Importance Score')"
      ],
      "metadata": {
        "id": "40WSd3YG-mkl"
      },
      "execution_count": null,
      "outputs": []
    },
    {
      "cell_type": "code",
      "source": [
        "param = {'learning_rate':0.05,'n_estimators':2000,'max_depth':9, 'objective':'multi:softprob','eval_metric':'mlogloss','num_class':3,'seed':123}\n",
        "data_dmatrix = xgb.DMatrix(data=X_train_sample,label=y_train_sample2)"
      ],
      "metadata": {
        "id": "uJ5opRxa-86r"
      },
      "execution_count": null,
      "outputs": []
    },
    {
      "cell_type": "code",
      "source": [
        "cv_results = xgb.cv(params = param, dtrain = data_dmatrix, nfold=5,\n",
        "       num_boost_round=2000,early_stopping_rounds=50,metrics=\"mlogloss\", as_pandas=True, seed=123)"
      ],
      "metadata": {
        "id": "SgKINY-ipLmm"
      },
      "execution_count": null,
      "outputs": []
    },
    {
      "cell_type": "code",
      "source": [
        "print((cv_results[\"train-mlogloss-mean\"]).tail(1))"
      ],
      "metadata": {
        "id": "iGsPi9qIrRaB",
        "colab": {
          "base_uri": "https://localhost:8080/"
        },
        "outputId": "3e1a5423-3b0e-4dc0-ac2d-69e77ed5e391"
      },
      "execution_count": null,
      "outputs": [
        {
          "output_type": "stream",
          "name": "stdout",
          "text": [
            "142    0.131064\n",
            "Name: train-mlogloss-mean, dtype: float64\n"
          ]
        }
      ]
    },
    {
      "cell_type": "code",
      "source": [
        "param_test1 = {\n",
        " 'max_depth':range(3,10,2),\n",
        " 'min_child_weight':range(1,6,2)\n",
        "}"
      ],
      "metadata": {
        "id": "v8nVD4l_rkq6"
      },
      "execution_count": null,
      "outputs": []
    },
    {
      "cell_type": "code",
      "source": [
        "gsearch1 = GridSearchCV(estimator = xgb.XGBClassifier( learning_rate =0.05, n_estimators=142, max_depth=5,\n",
        " min_child_weight=1, gamma=0, subsample=0.8, colsample_bytree=0.8,\n",
        " objective= 'multi:softprob', num_class=3, eval_metric='mlogloss', nthread=4, scale_pos_weight=1, seed=123), \n",
        " param_grid = param_test1, scoring='neg_log_loss',n_jobs=4, cv=5, verbose = 3)\n",
        "gsearch1.fit(X_train_sample,y_train_sample2)\n"
      ],
      "metadata": {
        "id": "dx-rcPg5ryHm",
        "colab": {
          "base_uri": "https://localhost:8080/"
        },
        "outputId": "c0f4df19-f1ea-4b82-934c-81bba39a7e53"
      },
      "execution_count": null,
      "outputs": [
        {
          "output_type": "execute_result",
          "data": {
            "text/plain": [
              "GridSearchCV(cv=5,\n",
              "             estimator=XGBClassifier(colsample_bytree=0.8,\n",
              "                                     eval_metric='mlogloss', learning_rate=0.05,\n",
              "                                     max_depth=5, n_estimators=142, nthread=4,\n",
              "                                     num_class=3, objective='multi:softprob',\n",
              "                                     seed=123, subsample=0.8),\n",
              "             n_jobs=4,\n",
              "             param_grid={'max_depth': range(3, 10, 2),\n",
              "                         'min_child_weight': range(1, 6, 2)},\n",
              "             scoring='neg_log_loss')"
            ]
          },
          "metadata": {},
          "execution_count": 190
        }
      ]
    },
    {
      "cell_type": "code",
      "source": [
        "gsearch1.best_params_, gsearch1.best_score_"
      ],
      "metadata": {
        "colab": {
          "base_uri": "https://localhost:8080/"
        },
        "id": "HclFXEVwgP7T",
        "outputId": "98b574ad-c87a-4bae-b96a-f14c8af67101"
      },
      "execution_count": null,
      "outputs": [
        {
          "output_type": "execute_result",
          "data": {
            "text/plain": [
              "({'max_depth': 7, 'min_child_weight': 1}, -0.680620068452942)"
            ]
          },
          "metadata": {},
          "execution_count": 191
        }
      ]
    },
    {
      "cell_type": "code",
      "source": [
        "param_test1b = {\n",
        " 'max_depth':[6,7,8],\n",
        " 'min_child_weight':[0.5,1,1.5,2]\n",
        "}"
      ],
      "metadata": {
        "id": "lP7r8tm-gk7f"
      },
      "execution_count": null,
      "outputs": []
    },
    {
      "cell_type": "code",
      "source": [
        "gsearch1b = GridSearchCV(estimator = xgb.XGBClassifier( learning_rate =0.05, n_estimators=142, max_depth=5,\n",
        " min_child_weight=1, gamma=0, subsample=0.8, colsample_bytree=0.8,\n",
        " objective= 'multi:softprob', num_class=3, eval_metric='mlogloss', nthread=4, scale_pos_weight=1, seed=123), \n",
        " param_grid = param_test1b, scoring='neg_log_loss',n_jobs=4, cv=5, verbose = 3)\n",
        "gsearch1b.fit(X_train_sample,y_train_sample2)\n"
      ],
      "metadata": {
        "colab": {
          "base_uri": "https://localhost:8080/"
        },
        "outputId": "8c8f5eb0-e162-452e-c05c-3803f819c559",
        "id": "t49wsNuPg1B3"
      },
      "execution_count": null,
      "outputs": [
        {
          "output_type": "stream",
          "name": "stdout",
          "text": [
            "Fitting 5 folds for each of 12 candidates, totalling 60 fits\n"
          ]
        },
        {
          "output_type": "execute_result",
          "data": {
            "text/plain": [
              "GridSearchCV(cv=5,\n",
              "             estimator=XGBClassifier(colsample_bytree=0.8,\n",
              "                                     eval_metric='mlogloss', learning_rate=0.05,\n",
              "                                     max_depth=5, n_estimators=142, nthread=4,\n",
              "                                     num_class=3, objective='multi:softprob',\n",
              "                                     seed=123, subsample=0.8),\n",
              "             n_jobs=4,\n",
              "             param_grid={'max_depth': [6, 7, 8],\n",
              "                         'min_child_weight': [0.5, 1, 1.5, 2]},\n",
              "             scoring='neg_log_loss', verbose=3)"
            ]
          },
          "metadata": {},
          "execution_count": 193
        }
      ]
    },
    {
      "cell_type": "code",
      "source": [
        "gsearch1b.best_params_, gsearch1b.best_score_"
      ],
      "metadata": {
        "colab": {
          "base_uri": "https://localhost:8080/"
        },
        "outputId": "fd90e037-b86a-42d1-f1df-7ade66d3ee53",
        "id": "yO_ZEoHFg1B8"
      },
      "execution_count": null,
      "outputs": [
        {
          "output_type": "execute_result",
          "data": {
            "text/plain": [
              "({'max_depth': 7, 'min_child_weight': 0.5}, -0.6784368590774635)"
            ]
          },
          "metadata": {},
          "execution_count": 194
        }
      ]
    },
    {
      "cell_type": "code",
      "source": [
        "param_test1c = {\n",
        " 'min_child_weight':[0,0.25,0.5]\n",
        "}"
      ],
      "metadata": {
        "id": "EquRfxr5hmPj"
      },
      "execution_count": null,
      "outputs": []
    },
    {
      "cell_type": "code",
      "source": [
        "gsearch1c = GridSearchCV(estimator = xgb.XGBClassifier( learning_rate =0.05, n_estimators=142, max_depth=7,\n",
        " min_child_weight=1, gamma=0, subsample=0.8, colsample_bytree=0.8,\n",
        " objective= 'multi:softprob', num_class=3, eval_metric='mlogloss', nthread=4, scale_pos_weight=1, seed=123), \n",
        " param_grid = param_test1c, scoring='neg_log_loss',n_jobs=4, cv=5, verbose = 3)\n",
        "gsearch1c.fit(X_train_sample,y_train_sample2)"
      ],
      "metadata": {
        "colab": {
          "base_uri": "https://localhost:8080/"
        },
        "id": "r22eLl5HhxBb",
        "outputId": "54e6849e-4880-421c-b888-57f8dc7ce5b6"
      },
      "execution_count": null,
      "outputs": [
        {
          "output_type": "stream",
          "name": "stdout",
          "text": [
            "Fitting 5 folds for each of 3 candidates, totalling 15 fits\n"
          ]
        },
        {
          "output_type": "execute_result",
          "data": {
            "text/plain": [
              "GridSearchCV(cv=5,\n",
              "             estimator=XGBClassifier(colsample_bytree=0.8,\n",
              "                                     eval_metric='mlogloss', learning_rate=0.05,\n",
              "                                     max_depth=7, n_estimators=142, nthread=4,\n",
              "                                     num_class=3, objective='multi:softprob',\n",
              "                                     seed=123, subsample=0.8),\n",
              "             n_jobs=4, param_grid={'min_child_weight': [0, 0.25, 0.5]},\n",
              "             scoring='neg_log_loss', verbose=3)"
            ]
          },
          "metadata": {},
          "execution_count": 197
        }
      ]
    },
    {
      "cell_type": "code",
      "source": [
        "gsearch1c.best_params_, gsearch1c.best_score_"
      ],
      "metadata": {
        "colab": {
          "base_uri": "https://localhost:8080/"
        },
        "id": "HbZc0WXIh3Xs",
        "outputId": "0636980c-00a0-4e15-8c57-8d82eb88a961"
      },
      "execution_count": null,
      "outputs": [
        {
          "output_type": "execute_result",
          "data": {
            "text/plain": [
              "({'min_child_weight': 0.5}, -0.6784368590774635)"
            ]
          },
          "metadata": {},
          "execution_count": 198
        }
      ]
    },
    {
      "cell_type": "code",
      "source": [
        "param_test2 = {\n",
        " 'gamma':[i/10.0 for i in range(5,10)]\n",
        "}"
      ],
      "metadata": {
        "id": "sPbdvNW5iKos"
      },
      "execution_count": null,
      "outputs": []
    },
    {
      "cell_type": "code",
      "source": [
        "gsearch2 = GridSearchCV(estimator = xgb.XGBClassifier( learning_rate =0.05, n_estimators=142, max_depth=7,\n",
        " min_child_weight=0.5, gamma=0, subsample=0.8, colsample_bytree=0.8,\n",
        " objective= 'multi:softprob', num_class=3, eval_metric='mlogloss', nthread=4, scale_pos_weight=1, seed=123), \n",
        " param_grid = param_test2, scoring='neg_log_loss',n_jobs=4, cv=5, verbose = 3)\n",
        "gsearch2.fit(X_train_sample,y_train_sample2)"
      ],
      "metadata": {
        "colab": {
          "base_uri": "https://localhost:8080/"
        },
        "outputId": "5a0ac8ea-eec7-4dbb-a92b-7ad8e9429536",
        "id": "pWu2CJrxiNA7"
      },
      "execution_count": null,
      "outputs": [
        {
          "output_type": "stream",
          "name": "stdout",
          "text": [
            "Fitting 5 folds for each of 5 candidates, totalling 25 fits\n"
          ]
        },
        {
          "output_type": "execute_result",
          "data": {
            "text/plain": [
              "GridSearchCV(cv=5,\n",
              "             estimator=XGBClassifier(colsample_bytree=0.8,\n",
              "                                     eval_metric='mlogloss', learning_rate=0.05,\n",
              "                                     max_depth=7, min_child_weight=0.5,\n",
              "                                     n_estimators=142, nthread=4, num_class=3,\n",
              "                                     objective='multi:softprob', seed=123,\n",
              "                                     subsample=0.8),\n",
              "             n_jobs=4, param_grid={'gamma': [0.5, 0.6, 0.7, 0.8, 0.9]},\n",
              "             scoring='neg_log_loss', verbose=3)"
            ]
          },
          "metadata": {},
          "execution_count": 200
        }
      ]
    },
    {
      "cell_type": "code",
      "source": [
        "gsearch2.best_params_, gsearch2.best_score_"
      ],
      "metadata": {
        "colab": {
          "base_uri": "https://localhost:8080/"
        },
        "outputId": "f54fdec4-c06f-4f20-b38a-f412231d8ad6",
        "id": "NdPWgE41iNA7"
      },
      "execution_count": null,
      "outputs": [
        {
          "output_type": "execute_result",
          "data": {
            "text/plain": [
              "({'gamma': 0.7}, -0.6778897789083421)"
            ]
          },
          "metadata": {},
          "execution_count": 201
        }
      ]
    },
    {
      "cell_type": "code",
      "source": [
        "param_test2b = {\n",
        " 'gamma':[0.6,0.7,0.8]\n",
        "}"
      ],
      "metadata": {
        "id": "-ro229RYi35v"
      },
      "execution_count": null,
      "outputs": []
    },
    {
      "cell_type": "code",
      "source": [
        "gsearch2b = GridSearchCV(estimator = xgb.XGBClassifier( learning_rate =0.05, n_estimators=142, max_depth=7,\n",
        " min_child_weight=0.5, gamma=0, subsample=0.8, colsample_bytree=0.8,\n",
        " objective= 'multi:softprob', num_class=3, eval_metric='mlogloss', nthread=4, scale_pos_weight=1, seed=123), \n",
        " param_grid = param_test2b, scoring='neg_log_loss',n_jobs=4, cv=5, verbose = 3)\n",
        "gsearch2b.fit(X_train_sample,y_train_sample2)"
      ],
      "metadata": {
        "colab": {
          "base_uri": "https://localhost:8080/"
        },
        "outputId": "011437dd-179b-4682-c810-1617ecf265be",
        "id": "x8vjjkIMi35w"
      },
      "execution_count": null,
      "outputs": [
        {
          "output_type": "stream",
          "name": "stdout",
          "text": [
            "Fitting 5 folds for each of 3 candidates, totalling 15 fits\n"
          ]
        },
        {
          "output_type": "execute_result",
          "data": {
            "text/plain": [
              "GridSearchCV(cv=5,\n",
              "             estimator=XGBClassifier(colsample_bytree=0.8,\n",
              "                                     eval_metric='mlogloss', learning_rate=0.05,\n",
              "                                     max_depth=7, min_child_weight=0.5,\n",
              "                                     n_estimators=142, nthread=4, num_class=3,\n",
              "                                     objective='multi:softprob', seed=123,\n",
              "                                     subsample=0.8),\n",
              "             n_jobs=4, param_grid={'gamma': [0.6, 0.7, 0.8]},\n",
              "             scoring='neg_log_loss', verbose=3)"
            ]
          },
          "metadata": {},
          "execution_count": 204
        }
      ]
    },
    {
      "cell_type": "code",
      "source": [
        "gsearch2b.best_params_, gsearch2b.best_score_"
      ],
      "metadata": {
        "colab": {
          "base_uri": "https://localhost:8080/"
        },
        "outputId": "1f7b1397-06c8-46d7-e53b-482161cb7064",
        "id": "KWVV4nuUi35w"
      },
      "execution_count": null,
      "outputs": [
        {
          "output_type": "execute_result",
          "data": {
            "text/plain": [
              "({'gamma': 0.7}, -0.6778897789083421)"
            ]
          },
          "metadata": {},
          "execution_count": 205
        }
      ]
    },
    {
      "cell_type": "code",
      "source": [
        "param_test3 = {\n",
        " 'subsample':[i/10.0 for i in range(6,10)],\n",
        " 'colsample_bytree':[i/10.0 for i in range(6,10)]\n",
        "}"
      ],
      "metadata": {
        "id": "DQG6O14uiMMF"
      },
      "execution_count": null,
      "outputs": []
    },
    {
      "cell_type": "code",
      "source": [
        "gsearch3 = GridSearchCV(estimator = xgb.XGBClassifier( learning_rate =0.05, n_estimators=142, max_depth=7,\n",
        " min_child_weight=0.5, gamma=0.7, subsample=0.8, colsample_bytree=0.8,\n",
        " objective= 'multi:softprob', num_class=3, eval_metric='mlogloss', nthread=4, scale_pos_weight=1, seed=123), \n",
        " param_grid = param_test3, scoring='neg_log_loss',n_jobs=4, cv=5, verbose = 3)\n",
        "gsearch3.fit(X_train_sample,y_train_sample2)"
      ],
      "metadata": {
        "colab": {
          "base_uri": "https://localhost:8080/"
        },
        "outputId": "0179313e-f3f4-4ac2-c730-7d8dbe52ffc9",
        "id": "jilb0nKtj1as"
      },
      "execution_count": null,
      "outputs": [
        {
          "output_type": "stream",
          "name": "stdout",
          "text": [
            "Fitting 5 folds for each of 16 candidates, totalling 80 fits\n"
          ]
        },
        {
          "output_type": "execute_result",
          "data": {
            "text/plain": [
              "GridSearchCV(cv=5,\n",
              "             estimator=XGBClassifier(colsample_bytree=0.8,\n",
              "                                     eval_metric='mlogloss', gamma=0.7,\n",
              "                                     learning_rate=0.05, max_depth=7,\n",
              "                                     min_child_weight=0.5, n_estimators=142,\n",
              "                                     nthread=4, num_class=3,\n",
              "                                     objective='multi:softprob', seed=123,\n",
              "                                     subsample=0.8),\n",
              "             n_jobs=4,\n",
              "             param_grid={'colsample_bytree': [0.6, 0.7, 0.8, 0.9],\n",
              "                         'subsample': [0.6, 0.7, 0.8, 0.9]},\n",
              "             scoring='neg_log_loss', verbose=3)"
            ]
          },
          "metadata": {},
          "execution_count": 208
        }
      ]
    },
    {
      "cell_type": "code",
      "source": [
        "gsearch3.best_params_, gsearch3.best_score_"
      ],
      "metadata": {
        "colab": {
          "base_uri": "https://localhost:8080/"
        },
        "outputId": "fe7d1533-b8e1-41cf-c2f2-435e9e6eeb25",
        "id": "q-qzO_FJj1at"
      },
      "execution_count": null,
      "outputs": [
        {
          "output_type": "execute_result",
          "data": {
            "text/plain": [
              "({'colsample_bytree': 0.6, 'subsample': 0.9}, -0.6748412205396842)"
            ]
          },
          "metadata": {},
          "execution_count": 209
        }
      ]
    },
    {
      "cell_type": "code",
      "source": [
        "param_test3b = {\n",
        " 'subsample':[i/10.0 for i in range(4,7)],\n",
        " 'colsample_bytree':[0.9,1]\n",
        "}"
      ],
      "metadata": {
        "id": "mcJnKrA2leUx"
      },
      "execution_count": null,
      "outputs": []
    },
    {
      "cell_type": "code",
      "source": [
        "gsearch3b = GridSearchCV(estimator = xgb.XGBClassifier( learning_rate =0.05, n_estimators=142, max_depth=7,\n",
        " min_child_weight=0.5, gamma=0.7, subsample=0.8, colsample_bytree=0.8,\n",
        " objective= 'multi:softprob', num_class=3, eval_metric='mlogloss', nthread=4, scale_pos_weight=1, seed=123), \n",
        " param_grid = param_test3b, scoring='neg_log_loss',n_jobs=4, cv=5, verbose = 3)\n",
        "gsearch3b.fit(X_train_sample,y_train_sample2)"
      ],
      "metadata": {
        "colab": {
          "base_uri": "https://localhost:8080/"
        },
        "outputId": "7e74e820-072f-4d4d-b27c-9bb0217d4372",
        "id": "ocLB6a9Fljya"
      },
      "execution_count": null,
      "outputs": [
        {
          "output_type": "stream",
          "name": "stdout",
          "text": [
            "Fitting 5 folds for each of 6 candidates, totalling 30 fits\n"
          ]
        },
        {
          "output_type": "execute_result",
          "data": {
            "text/plain": [
              "GridSearchCV(cv=5,\n",
              "             estimator=XGBClassifier(colsample_bytree=0.8,\n",
              "                                     eval_metric='mlogloss', gamma=0.7,\n",
              "                                     learning_rate=0.05, max_depth=7,\n",
              "                                     min_child_weight=0.5, n_estimators=142,\n",
              "                                     nthread=4, num_class=3,\n",
              "                                     objective='multi:softprob', seed=123,\n",
              "                                     subsample=0.8),\n",
              "             n_jobs=4,\n",
              "             param_grid={'colsample_bytree': [0.9, 1],\n",
              "                         'subsample': [0.4, 0.5, 0.6]},\n",
              "             scoring='neg_log_loss', verbose=3)"
            ]
          },
          "metadata": {},
          "execution_count": 211
        }
      ]
    },
    {
      "cell_type": "code",
      "source": [
        "gsearch3b.best_params_, gsearch3b.best_score_"
      ],
      "metadata": {
        "colab": {
          "base_uri": "https://localhost:8080/"
        },
        "outputId": "714b242a-0f48-4e11-a43f-4742046b788f",
        "id": "0Cd1RT5qljya"
      },
      "execution_count": null,
      "outputs": [
        {
          "output_type": "execute_result",
          "data": {
            "text/plain": [
              "({'colsample_bytree': 0.9, 'subsample': 0.6}, -0.6887621011361479)"
            ]
          },
          "metadata": {},
          "execution_count": 212
        }
      ]
    },
    {
      "cell_type": "code",
      "source": [
        "param = {'learning_rate':0.03,'n_estimators':2000,'max_depth':7,'min_child_weight':0.5, 'gamma':0.7, 'colsample_bytree':0.9, 'subsample':0.6, 'objective':'multi:softprob','eval_metric':'mlogloss','num_class':3,'seed':123}\n",
        "data_dmatrix = xgb.DMatrix(data=X_train_sample,label=y_train_sample2)"
      ],
      "metadata": {
        "id": "rzPKamOHmZE9"
      },
      "execution_count": null,
      "outputs": []
    },
    {
      "cell_type": "code",
      "source": [
        "cv_results = xgb.cv(params = param, dtrain = data_dmatrix, nfold=5,\n",
        "       num_boost_round=2000,early_stopping_rounds=50,metrics=\"mlogloss\", as_pandas=True, seed=123)"
      ],
      "metadata": {
        "id": "okcI_BIBmZE_"
      },
      "execution_count": null,
      "outputs": []
    },
    {
      "cell_type": "code",
      "source": [
        "print((cv_results[\"train-mlogloss-mean\"]).tail(1))"
      ],
      "metadata": {
        "colab": {
          "base_uri": "https://localhost:8080/"
        },
        "id": "b7QnTrl-nIuV",
        "outputId": "2dc45d8f-d814-4fab-cbf7-889ce29cecc1"
      },
      "execution_count": null,
      "outputs": [
        {
          "output_type": "stream",
          "name": "stdout",
          "text": [
            "387    0.197533\n",
            "Name: train-mlogloss-mean, dtype: float64\n"
          ]
        }
      ]
    },
    {
      "cell_type": "markdown",
      "source": [
        "## Tuned Model"
      ],
      "metadata": {
        "id": "KN6aPtYc4yMQ"
      }
    },
    {
      "cell_type": "code",
      "source": [
        "xgb_tuned = xgb.XGBClassifier(learning_rate=0.03,n_estimators=387,max_depth=7,min_child_weight=0.5, gamma=0.7, colsample_bytree=0.9, subsample=0.6, objective='multi:softprob',eval_metric='mlogloss',num_class=3,seed=123)"
      ],
      "metadata": {
        "id": "Ns1MhcdlmFQl"
      },
      "execution_count": null,
      "outputs": []
    },
    {
      "cell_type": "code",
      "source": [
        "xgb_tuned.fit(X_train_sample,y_train_sample2)"
      ],
      "metadata": {
        "colab": {
          "base_uri": "https://localhost:8080/"
        },
        "id": "rsP6UtZkoccM",
        "outputId": "a0abfb26-f4fc-48a7-e3cc-e33285299fd4"
      },
      "execution_count": null,
      "outputs": [
        {
          "output_type": "execute_result",
          "data": {
            "text/plain": [
              "XGBClassifier(colsample_bytree=0.9, eval_metric='mlogloss', gamma=0.7,\n",
              "              learning_rate=0.03, max_depth=7, min_child_weight=0.5,\n",
              "              n_estimators=387, num_class=3, objective='multi:softprob',\n",
              "              seed=123, subsample=0.6)"
            ]
          },
          "metadata": {},
          "execution_count": 14
        }
      ]
    },
    {
      "cell_type": "code",
      "source": [
        "xgb_tuned.score(X_test,y_test2)"
      ],
      "metadata": {
        "colab": {
          "base_uri": "https://localhost:8080/"
        },
        "id": "HY4NBZPcopIk",
        "outputId": "843080ad-3234-4ecf-a299-ac2a728a98bb"
      },
      "execution_count": null,
      "outputs": [
        {
          "output_type": "execute_result",
          "data": {
            "text/plain": [
              "0.7335958475031322"
            ]
          },
          "metadata": {},
          "execution_count": 15
        }
      ]
    },
    {
      "cell_type": "code",
      "source": [
        "from sklearn.metrics import confusion_matrix, f1_score\n",
        "import matplotlib.pyplot as plt\n",
        "import seaborn as sns"
      ],
      "metadata": {
        "id": "3heAlFFQo4QC"
      },
      "execution_count": null,
      "outputs": []
    },
    {
      "cell_type": "code",
      "source": [
        "pred_labels = xgb_tuned.predict(X_test)"
      ],
      "metadata": {
        "id": "HKse2P9ko4QD"
      },
      "execution_count": null,
      "outputs": []
    },
    {
      "cell_type": "code",
      "source": [
        "f1_score(y_test2, pred_labels, average = 'macro')"
      ],
      "metadata": {
        "colab": {
          "base_uri": "https://localhost:8080/"
        },
        "id": "YJ2OVwE78hE1",
        "outputId": "e0861e3e-e585-4281-fc70-5c93cb769ad7"
      },
      "execution_count": null,
      "outputs": [
        {
          "output_type": "execute_result",
          "data": {
            "text/plain": [
              "0.4484518582271722"
            ]
          },
          "metadata": {},
          "execution_count": 18
        }
      ]
    },
    {
      "cell_type": "code",
      "source": [
        "mat = confusion_matrix(y_test2, pred_labels)\n",
        "plt.figure(figsize=(5,5))\n",
        "\n",
        "# np.unique(y_train) gives labels in a 'sorted' fashion appropriate to the outputs\n",
        "sns.heatmap(mat.T, square=True, annot=True, fmt='d', cbar=False, \n",
        "            xticklabels=np.unique(y_train2), yticklabels=np.unique(y_train2))\n",
        "plt.xlabel('true label')\n",
        "plt.ylabel('predicted label')\n",
        "plt.title('XGBoost');"
      ],
      "metadata": {
        "colab": {
          "base_uri": "https://localhost:8080/",
          "height": 350
        },
        "outputId": "ac990b4f-0747-440e-8f5c-b549b1783fe1",
        "id": "Hu_DnA3to4QE"
      },
      "execution_count": null,
      "outputs": [
        {
          "output_type": "display_data",
          "data": {
            "text/plain": [
              "<Figure size 360x360 with 1 Axes>"
            ],
            "image/png": "[encoded data removed]"
          },
          "metadata": {
            "needs_background": "light"
          }
        }
      ]
    },
    {
      "cell_type": "code",
      "source": [
        "plt.barh(X_train.columns, xgb_tuned.feature_importances_)"
      ],
      "metadata": {
        "colab": {
          "base_uri": "https://localhost:8080/",
          "height": 282
        },
        "id": "llQId8zcozwD",
        "outputId": "c8e49c90-cee3-4f41-99d9-f4739a1456e1"
      },
      "execution_count": null,
      "outputs": [
        {
          "output_type": "execute_result",
          "data": {
            "text/plain": [
              "<BarContainer object of 30 artists>"
            ]
          },
          "metadata": {},
          "execution_count": 20
        },
        {
          "output_type": "display_data",
          "data": {
            "text/plain": [
              "<Figure size 432x288 with 1 Axes>"
            ],
            "image/png": "[encoded data removed]"
          },
          "metadata": {
            "needs_background": "light"
          }
        }
      ]
    },
    {
      "cell_type": "code",
      "source": [
        "sorted_idx = xgb_tuned.feature_importances_.argsort()\n",
        "plt.figure(figsize=(7,7))\n",
        "plt.barh(X_train.columns[sorted_idx], xgb_tuned.feature_importances_[sorted_idx])\n",
        "plt.xlabel(\"Xgboost Feature Importance\")"
      ],
      "metadata": {
        "colab": {
          "base_uri": "https://localhost:8080/",
          "height": 459
        },
        "id": "WrYJmsdgnZvH",
        "outputId": "403df57f-a5b7-49de-8d2f-05f2a8e5312d"
      },
      "execution_count": null,
      "outputs": [
        {
          "output_type": "execute_result",
          "data": {
            "text/plain": [
              "Text(0.5, 0, 'Xgboost Feature Importance')"
            ]
          },
          "metadata": {},
          "execution_count": 22
        },
        {
          "output_type": "display_data",
          "data": {
            "text/plain": [
              "<Figure size 504x504 with 1 Axes>"
            ],
            "image/png": "[encoded data removed]"
          },
          "metadata": {
            "needs_background": "light"
          }
        }
      ]
    }
  ]
}