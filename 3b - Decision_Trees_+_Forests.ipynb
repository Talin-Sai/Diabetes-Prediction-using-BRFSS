{
  "cells": [
    {
      "cell_type": "code",
      "execution_count": 1,
      "metadata": {
        "colab": {
          "base_uri": "https://localhost:8080/"
        },
        "id": "fDkZT-EOo0go",
        "outputId": "38f6a58e-85ed-49db-fdfb-bc5f471a9754"
      },
      "outputs": [
        {
          "output_type": "stream",
          "name": "stdout",
          "text": [
            "Mounted at /content/drive\n"
          ]
        }
      ],
      "source": [
        "from google.colab import drive\n",
        "\n",
        "drive.mount('/content/drive', force_remount=True)"
      ]
    },
    {
      "cell_type": "code",
      "execution_count": 2,
      "metadata": {
        "id": "i3dqrB8LpRaG"
      },
      "outputs": [],
      "source": [
        "import pandas as pd\n",
        "import numpy as np"
      ]
    },
    {
      "cell_type": "code",
      "execution_count": 3,
      "metadata": {
        "id": "9ANgqxD2pVZK"
      },
      "outputs": [],
      "source": [
        "#Replace with reading in train and test data from wherever\n",
        "train = pd.read_csv('/content/drive/MyDrive/Stats_Learning_Final_Project/train.csv')\n",
        "test = pd.read_csv('/content/drive/MyDrive/Stats_Learning_Final_Project/test.csv')"
      ]
    },
    {
      "cell_type": "code",
      "execution_count": 4,
      "metadata": {
        "id": "IV81YrSvq4dl"
      },
      "outputs": [],
      "source": [
        "train = train.drop('Unnamed: 0', axis = 1)\n",
        "test = test.drop('Unnamed: 0', axis = 1)"
      ]
    },
    {
      "cell_type": "code",
      "execution_count": 5,
      "metadata": {
        "id": "8R0Gwmw3sBS9"
      },
      "outputs": [],
      "source": [
        "X_train = train.iloc[:,:-1]\n",
        "y_train = train.iloc[:,-1]\n",
        "X_test = test.iloc[:,:-1]\n",
        "y_test = test.iloc[:,-1]"
      ]
    },
    {
      "cell_type": "code",
      "execution_count": 6,
      "metadata": {
        "id": "3O5S9Q50bCbM"
      },
      "outputs": [],
      "source": [
        "train_sample = train.groupby('DiabetesStatus', group_keys=False).apply(lambda x: x.sample(1000))"
      ]
    },
    {
      "cell_type": "code",
      "execution_count": 7,
      "metadata": {
        "id": "eph4VzTkbjDj"
      },
      "outputs": [],
      "source": [
        "X_train_sample = train_sample.iloc[:,:-1]\n",
        "y_train_sample = train_sample.iloc[:,-1]"
      ]
    },
    {
      "cell_type": "markdown",
      "source": [
        "# Logistic Regression"
      ],
      "metadata": {
        "id": "Kn5uyhodv9Qa"
      }
    },
    {
      "cell_type": "code",
      "source": [
        "from sklearn.linear_model import LogisticRegression"
      ],
      "metadata": {
        "id": "T0AMbtCyv8mN"
      },
      "execution_count": 8,
      "outputs": []
    },
    {
      "cell_type": "code",
      "source": [
        "log_model = LogisticRegression(max_iter = 1000, multi_class='multinomial',random_state=0)"
      ],
      "metadata": {
        "id": "2tPm4jBFwy5s"
      },
      "execution_count": 9,
      "outputs": []
    },
    {
      "cell_type": "code",
      "source": [
        "log_model.fit(X_train,y_train)"
      ],
      "metadata": {
        "colab": {
          "base_uri": "https://localhost:8080/"
        },
        "id": "q1i3b4K7xHqI",
        "outputId": "7c269e72-5f9c-4ad8-dce6-6bc57b837590"
      },
      "execution_count": 10,
      "outputs": [
        {
          "output_type": "stream",
          "name": "stderr",
          "text": [
            "/usr/local/lib/python3.8/dist-packages/sklearn/linear_model/_logistic.py:814: ConvergenceWarning: lbfgs failed to converge (status=1):\n",
            "STOP: TOTAL NO. of ITERATIONS REACHED LIMIT.\n",
            "\n",
            "Increase the number of iterations (max_iter) or scale the data as shown in:\n",
            "    https://scikit-learn.org/stable/modules/preprocessing.html\n",
            "Please also refer to the documentation for alternative solver options:\n",
            "    https://scikit-learn.org/stable/modules/linear_model.html#logistic-regression\n",
            "  n_iter_i = _check_optimize_result(\n"
          ]
        },
        {
          "output_type": "execute_result",
          "data": {
            "text/plain": [
              "LogisticRegression(max_iter=1000, multi_class='multinomial', random_state=0)"
            ]
          },
          "metadata": {},
          "execution_count": 10
        }
      ]
    },
    {
      "cell_type": "code",
      "execution_count": 11,
      "metadata": {
        "id": "XX6LiuWIyRKU"
      },
      "outputs": [],
      "source": [
        "from sklearn.metrics import confusion_matrix, f1_score\n",
        "import matplotlib.pyplot as plt\n",
        "import seaborn as sns"
      ]
    },
    {
      "cell_type": "code",
      "execution_count": 12,
      "metadata": {
        "id": "fAbP1zdGyRKW"
      },
      "outputs": [],
      "source": [
        "pred_labels = log_model.predict(X_test)"
      ]
    },
    {
      "cell_type": "code",
      "execution_count": 13,
      "metadata": {
        "colab": {
          "base_uri": "https://localhost:8080/"
        },
        "outputId": "e7725a0b-cb5a-4fb6-cc74-d30d342a2858",
        "id": "a4tha78HyRKW"
      },
      "outputs": [
        {
          "output_type": "execute_result",
          "data": {
            "text/plain": [
              "0.43266878265003456"
            ]
          },
          "metadata": {},
          "execution_count": 13
        }
      ],
      "source": [
        "f1_score(y_test, pred_labels, average = 'macro')"
      ]
    },
    {
      "cell_type": "code",
      "execution_count": 14,
      "metadata": {
        "colab": {
          "base_uri": "https://localhost:8080/",
          "height": 350
        },
        "outputId": "131c7836-e2f3-40f1-cb98-34e7ddd4ae7f",
        "id": "M6wYtZtLyRKX"
      },
      "outputs": [
        {
          "output_type": "display_data",
          "data": {
            "text/plain": [
              "<Figure size 360x360 with 1 Axes>"
            ],
            "image/png": "[encoded data removed]"
          },
          "metadata": {
            "needs_background": "light"
          }
        }
      ],
      "source": [
        "mat = confusion_matrix(y_test, pred_labels)\n",
        "plt.figure(figsize=(5,5))\n",
        "\n",
        "# np.unique(y_train) gives labels in a 'sorted' fashion appropriate to the outputs\n",
        "sns.heatmap(mat.T, square=True, annot=True, fmt='d', cbar=False, \n",
        "            xticklabels=np.unique(y_train), yticklabels=np.unique(y_train))\n",
        "plt.xlabel('true label')\n",
        "plt.ylabel('predicted label')\n",
        "plt.title('Logistic Regression');"
      ]
    },
    {
      "cell_type": "markdown",
      "metadata": {
        "id": "_heZT4r66sNh"
      },
      "source": [
        "# Decision Tree"
      ]
    },
    {
      "cell_type": "code",
      "execution_count": null,
      "metadata": {
        "id": "G9AF3pft6o-8"
      },
      "outputs": [],
      "source": [
        "from sklearn.tree import DecisionTreeClassifier"
      ]
    },
    {
      "cell_type": "code",
      "execution_count": null,
      "metadata": {
        "id": "IoKmeNLl6-23"
      },
      "outputs": [],
      "source": [
        "dec = DecisionTreeClassifier(max_depth=10, random_state=0)"
      ]
    },
    {
      "cell_type": "code",
      "execution_count": null,
      "metadata": {
        "colab": {
          "base_uri": "https://localhost:8080/"
        },
        "id": "80_QeLTB7L09",
        "outputId": "4001fa6b-1c8b-4947-ac02-07b65e9dcde5"
      },
      "outputs": [
        {
          "data": {
            "text/plain": [
              "DecisionTreeClassifier(max_depth=10, random_state=0)"
            ]
          },
          "execution_count": 26,
          "metadata": {},
          "output_type": "execute_result"
        }
      ],
      "source": [
        "dec.fit(X_train,y_train)"
      ]
    },
    {
      "cell_type": "code",
      "execution_count": null,
      "metadata": {
        "id": "GjbpttEc8NlI"
      },
      "outputs": [],
      "source": [
        "from sklearn.metrics import confusion_matrix, f1_score\n",
        "import matplotlib.pyplot as plt\n",
        "import seaborn as sns"
      ]
    },
    {
      "cell_type": "code",
      "execution_count": null,
      "metadata": {
        "id": "avmwDqhF8iEy"
      },
      "outputs": [],
      "source": [
        "pred_labels = dec.predict(X_test)"
      ]
    },
    {
      "cell_type": "code",
      "execution_count": null,
      "metadata": {
        "colab": {
          "base_uri": "https://localhost:8080/"
        },
        "id": "RkVEkh-Ku5d8",
        "outputId": "e403eca6-7478-4432-c262-a2dae42cf9e9"
      },
      "outputs": [
        {
          "data": {
            "text/plain": [
              "0.45149257917869084"
            ]
          },
          "execution_count": 29,
          "metadata": {},
          "output_type": "execute_result"
        }
      ],
      "source": [
        "f1_score(y_test, pred_labels, average = 'macro')"
      ]
    },
    {
      "cell_type": "code",
      "execution_count": null,
      "metadata": {
        "colab": {
          "base_uri": "https://localhost:8080/",
          "height": 350
        },
        "id": "2Gfi3AGe8nwi",
        "outputId": "17bda1a2-e946-4ba9-b679-170679d6eeb2"
      },
      "outputs": [
        {
          "data": {
            "image/png": "[encoded data removed]",
            "text/plain": [
              "<Figure size 360x360 with 1 Axes>"
            ]
          },
          "metadata": {},
          "output_type": "display_data"
        }
      ],
      "source": [
        "mat = confusion_matrix(y_test, pred_labels)\n",
        "plt.figure(figsize=(5,5))\n",
        "\n",
        "# np.unique(y_train) gives labels in a 'sorted' fashion appropriate to the outputs\n",
        "sns.heatmap(mat.T, square=True, annot=True, fmt='d', cbar=False, \n",
        "            xticklabels=np.unique(y_train), yticklabels=np.unique(y_train))\n",
        "plt.xlabel('true label')\n",
        "plt.ylabel('predicted label')\n",
        "plt.title('Decision Tree');"
      ]
    },
    {
      "cell_type": "code",
      "execution_count": null,
      "metadata": {
        "colab": {
          "base_uri": "https://localhost:8080/",
          "height": 933
        },
        "id": "ulErLFbD0jMw",
        "outputId": "9bd8d18f-b6aa-4206-9b7b-e1a540eaed0f"
      },
      "outputs": [
        {
          "data": {
            "text/plain": [
              "[Text(0.5, 0.9, 'X[8] <= 0.5\\ngini = 0.667\\nsamples = 240123\\nvalue = [80041, 80041, 80041]'),\n",
              " Text(0.25, 0.7, 'X[14] <= 4.0\\ngini = 0.61\\nsamples = 99731\\nvalue = [18282, 51336, 30113]'),\n",
              " Text(0.125, 0.5, 'X[14] <= 3.0\\ngini = 0.646\\nsamples = 62649\\nvalue = [13626, 25055, 23968]'),\n",
              " Text(0.0625, 0.3, 'X[14] <= 3.0\\ngini = 0.615\\nsamples = 48977\\nvalue = [9888, 25055, 14034]'),\n",
              " Text(0.03125, 0.1, '\\n  (...)  \\n'),\n",
              " Text(0.09375, 0.1, '\\n  (...)  \\n'),\n",
              " Text(0.1875, 0.3, 'X[7] <= 0.5\\ngini = 0.397\\nsamples = 13672\\nvalue = [3738, 0, 9934]'),\n",
              " Text(0.15625, 0.1, '\\n  (...)  \\n'),\n",
              " Text(0.21875, 0.1, '\\n  (...)  \\n'),\n",
              " Text(0.375, 0.5, 'X[0] <= 1.5\\ngini = 0.454\\nsamples = 37082\\nvalue = [4656, 26281, 6145]'),\n",
              " Text(0.3125, 0.3, 'X[13] <= 4127.5\\ngini = 0.18\\nsamples = 8706\\nvalue = [285, 7860, 561]'),\n",
              " Text(0.28125, 0.1, '\\n  (...)  \\n'),\n",
              " Text(0.34375, 0.1, '\\n  (...)  \\n'),\n",
              " Text(0.4375, 0.3, 'X[15] <= 6.0\\ngini = 0.516\\nsamples = 28376\\nvalue = [4371, 18421, 5584]'),\n",
              " Text(0.40625, 0.1, '\\n  (...)  \\n'),\n",
              " Text(0.46875, 0.1, '\\n  (...)  \\n'),\n",
              " Text(0.75, 0.7, 'X[0] <= 3.5\\ngini = 0.638\\nsamples = 140392\\nvalue = [61759, 28705, 49928]'),\n",
              " Text(0.625, 0.5, 'X[14] <= 4.0\\ngini = 0.651\\nsamples = 102226\\nvalue = [38496, 23533, 40197]'),\n",
              " Text(0.5625, 0.3, 'X[14] <= 3.0\\ngini = 0.626\\nsamples = 75678\\nvalue = [29697, 12943, 33038]'),\n",
              " Text(0.53125, 0.1, '\\n  (...)  \\n'),\n",
              " Text(0.59375, 0.1, '\\n  (...)  \\n'),\n",
              " Text(0.6875, 0.3, 'X[0] <= 2.5\\ngini = 0.658\\nsamples = 26548\\nvalue = [8799, 10590, 7159]'),\n",
              " Text(0.65625, 0.1, '\\n  (...)  \\n'),\n",
              " Text(0.71875, 0.1, '\\n  (...)  \\n'),\n",
              " Text(0.875, 0.5, 'X[2] <= 0.5\\ngini = 0.545\\nsamples = 38166\\nvalue = [23263, 5172, 9731]'),\n",
              " Text(0.8125, 0.3, 'X[10] <= 0.5\\ngini = 0.561\\nsamples = 33926\\nvalue = [19819, 4561, 9546]'),\n",
              " Text(0.78125, 0.1, '\\n  (...)  \\n'),\n",
              " Text(0.84375, 0.1, '\\n  (...)  \\n'),\n",
              " Text(0.9375, 0.3, 'X[13] <= 6807.689\\ngini = 0.318\\nsamples = 4240\\nvalue = [3444, 611, 185]'),\n",
              " Text(0.90625, 0.1, '\\n  (...)  \\n'),\n",
              " Text(0.96875, 0.1, '\\n  (...)  \\n')]"
            ]
          },
          "execution_count": 40,
          "metadata": {},
          "output_type": "execute_result"
        },
        {
          "data": {
            "image/png": "[encoded data removed]",
            "text/plain": [
              "<Figure size 800x480 with 1 Axes>"
            ]
          },
          "metadata": {},
          "output_type": "display_data"
        }
      ],
      "source": [
        "from sklearn.tree import plot_tree\n",
        "plt.figure(figsize=(10, 6), dpi=80)\n",
        "plot_tree(dec, max_depth=3,fontsize=5,feature_names=[])"
      ]
    },
    {
      "cell_type": "markdown",
      "metadata": {
        "id": "WHi71I_w9NNv"
      },
      "source": [
        "# Random Forest"
      ]
    },
    {
      "cell_type": "code",
      "execution_count": 8,
      "metadata": {
        "id": "KArKWUMS7XL8"
      },
      "outputs": [],
      "source": [
        "from sklearn.ensemble import RandomForestClassifier\n",
        "from sklearn.ensemble import ExtraTreesClassifier"
      ]
    },
    {
      "cell_type": "markdown",
      "metadata": {
        "id": "T0EHolzG96kH"
      },
      "source": [
        "## Hyperparameter Tuning"
      ]
    },
    {
      "cell_type": "code",
      "execution_count": null,
      "metadata": {
        "id": "Pgq12uYB93NO"
      },
      "outputs": [],
      "source": [
        "from sklearn.model_selection import GridSearchCV"
      ]
    },
    {
      "cell_type": "code",
      "execution_count": null,
      "metadata": {
        "id": "BeMez0FXrvZp"
      },
      "outputs": [],
      "source": [
        "rf = RandomForestClassifier(n_estimators=100, random_state=0)"
      ]
    },
    {
      "cell_type": "code",
      "execution_count": null,
      "metadata": {
        "colab": {
          "base_uri": "https://localhost:8080/"
        },
        "id": "KH45_1XHsgc8",
        "outputId": "0c2d6cbe-4378-4ab0-dd23-e8f39c3c81d4"
      },
      "outputs": [
        {
          "data": {
            "text/plain": [
              "RandomForestClassifier(random_state=0)"
            ]
          },
          "execution_count": 20,
          "metadata": {},
          "output_type": "execute_result"
        }
      ],
      "source": [
        "rf.fit(X_train_sample,y_train_sample)"
      ]
    },
    {
      "cell_type": "code",
      "execution_count": null,
      "metadata": {
        "colab": {
          "base_uri": "https://localhost:8080/"
        },
        "id": "IxWDnfbixv_6",
        "outputId": "08cd5aa7-ea1b-435d-9f71-e95fc4a88296"
      },
      "outputs": [
        {
          "data": {
            "text/plain": [
              "0.7013781993914444"
            ]
          },
          "execution_count": 21,
          "metadata": {},
          "output_type": "execute_result"
        }
      ],
      "source": [
        "rf.score(X_test,y_test)"
      ]
    },
    {
      "cell_type": "code",
      "execution_count": null,
      "metadata": {
        "id": "32eRWJlzzFG6"
      },
      "outputs": [],
      "source": [
        "param_test1 = {\n",
        " 'n_estimators':range(100,501,50)\n",
        "}"
      ]
    },
    {
      "cell_type": "code",
      "execution_count": null,
      "metadata": {
        "colab": {
          "base_uri": "https://localhost:8080/"
        },
        "id": "JxQeC8KM0kBf",
        "outputId": "05f0d938-bf54-41aa-c0fe-af3ea1c086f4"
      },
      "outputs": [
        {
          "name": "stdout",
          "output_type": "stream",
          "text": [
            "Fitting 5 folds for each of 9 candidates, totalling 45 fits\n"
          ]
        },
        {
          "data": {
            "text/plain": [
              "GridSearchCV(estimator=RandomForestClassifier(random_state=0), n_jobs=-1,\n",
              "             param_grid={'n_estimators': range(100, 501, 50)}, verbose=3)"
            ]
          },
          "execution_count": 24,
          "metadata": {},
          "output_type": "execute_result"
        }
      ],
      "source": [
        "gsearch1 = GridSearchCV(RandomForestClassifier(random_state=0), param_test1, n_jobs=-1,verbose=3)\n",
        "gsearch1.fit(X_train_sample,y_train_sample)"
      ]
    },
    {
      "cell_type": "code",
      "execution_count": null,
      "metadata": {
        "colab": {
          "base_uri": "https://localhost:8080/"
        },
        "id": "ZQEPuyv71C1G",
        "outputId": "ed9f1356-759b-468f-bffe-a82255f5cc6b"
      },
      "outputs": [
        {
          "data": {
            "text/plain": [
              "({'n_estimators': 300}, 0.658)"
            ]
          },
          "execution_count": 25,
          "metadata": {},
          "output_type": "execute_result"
        }
      ],
      "source": [
        "gsearch1.best_params_, gsearch1.best_score_"
      ]
    },
    {
      "cell_type": "code",
      "execution_count": null,
      "metadata": {
        "id": "y_G6Ig1T9SK9"
      },
      "outputs": [],
      "source": [
        "param_test1b = {\n",
        "    'n_estimators': range(260,341,20)\n",
        "}"
      ]
    },
    {
      "cell_type": "code",
      "execution_count": null,
      "metadata": {
        "colab": {
          "base_uri": "https://localhost:8080/"
        },
        "id": "eh8_nk-5-ttr",
        "outputId": "975ef57e-cda6-4162-d95d-a6d7e722e034"
      },
      "outputs": [
        {
          "name": "stdout",
          "output_type": "stream",
          "text": [
            "Fitting 5 folds for each of 5 candidates, totalling 25 fits\n"
          ]
        },
        {
          "data": {
            "text/plain": [
              "GridSearchCV(estimator=RandomForestClassifier(random_state=0), n_jobs=-1,\n",
              "             param_grid={'n_estimators': range(260, 341, 20)}, verbose=3)"
            ]
          },
          "execution_count": 27,
          "metadata": {},
          "output_type": "execute_result"
        }
      ],
      "source": [
        "gsearch1b = GridSearchCV(RandomForestClassifier(random_state=0), param_test1b, n_jobs=-1,verbose=3)\n",
        "gsearch1b.fit(X_train_sample,y_train_sample)"
      ]
    },
    {
      "cell_type": "code",
      "execution_count": null,
      "metadata": {
        "colab": {
          "base_uri": "https://localhost:8080/"
        },
        "id": "T8uCRYYq-ttv",
        "outputId": "39ddf701-f76f-45c0-9559-1aae69ee02b0"
      },
      "outputs": [
        {
          "data": {
            "text/plain": [
              "({'n_estimators': 300}, 0.658)"
            ]
          },
          "execution_count": 28,
          "metadata": {},
          "output_type": "execute_result"
        }
      ],
      "source": [
        "gsearch1b.best_params_, gsearch1b.best_score_"
      ]
    },
    {
      "cell_type": "code",
      "execution_count": null,
      "metadata": {
        "id": "jvQzzr9l-wg8"
      },
      "outputs": [],
      "source": [
        "param_test2 = {\n",
        "    'max_depth' : range(3,10,2),\n",
        "    'min_samples_split' : [0.05,0.1,0.2]\n",
        "}"
      ]
    },
    {
      "cell_type": "code",
      "execution_count": null,
      "metadata": {
        "colab": {
          "base_uri": "https://localhost:8080/"
        },
        "id": "Gux2zEwS_b-V",
        "outputId": "6d581672-dd5e-414c-c256-50190b40e0e3"
      },
      "outputs": [
        {
          "name": "stdout",
          "output_type": "stream",
          "text": [
            "Fitting 5 folds for each of 12 candidates, totalling 60 fits\n"
          ]
        },
        {
          "data": {
            "text/plain": [
              "GridSearchCV(estimator=RandomForestClassifier(random_state=0), n_jobs=-1,\n",
              "             param_grid={'max_depth': range(3, 10, 2),\n",
              "                         'min_samples_split': [0.05, 0.1, 0.2]},\n",
              "             verbose=3)"
            ]
          },
          "execution_count": 30,
          "metadata": {},
          "output_type": "execute_result"
        }
      ],
      "source": [
        "gsearch2 = GridSearchCV(RandomForestClassifier(n_estimators=300,random_state=0), param_test2, n_jobs=-1,verbose=3)\n",
        "gsearch2.fit(X_train_sample,y_train_sample)"
      ]
    },
    {
      "cell_type": "code",
      "execution_count": null,
      "metadata": {
        "colab": {
          "base_uri": "https://localhost:8080/"
        },
        "id": "JFtUTu93_b-W",
        "outputId": "975d6134-c0e2-4d24-f88e-47986eaa81ca"
      },
      "outputs": [
        {
          "data": {
            "text/plain": [
              "({'max_depth': 9, 'min_samples_split': 0.05}, 0.6246666666666666)"
            ]
          },
          "execution_count": 31,
          "metadata": {},
          "output_type": "execute_result"
        }
      ],
      "source": [
        "gsearch2.best_params_, gsearch2.best_score_"
      ]
    },
    {
      "cell_type": "code",
      "execution_count": null,
      "metadata": {
        "id": "q7COhAIA_bXR"
      },
      "outputs": [],
      "source": [
        "param_test2b = {\n",
        "    'max_depth' : [9,12,20,None],\n",
        "    'min_samples_split' : [0.05,0.01,2]\n",
        "}"
      ]
    },
    {
      "cell_type": "code",
      "execution_count": null,
      "metadata": {
        "colab": {
          "base_uri": "https://localhost:8080/"
        },
        "id": "NavwlxaMAD85",
        "outputId": "fd38554c-2314-420e-87db-18721eee73d8"
      },
      "outputs": [
        {
          "name": "stdout",
          "output_type": "stream",
          "text": [
            "Fitting 5 folds for each of 12 candidates, totalling 60 fits\n"
          ]
        },
        {
          "data": {
            "text/plain": [
              "GridSearchCV(estimator=RandomForestClassifier(random_state=0), n_jobs=-1,\n",
              "             param_grid={'max_depth': [9, 12, 20, None],\n",
              "                         'min_samples_split': [0.05, 0.01, 2]},\n",
              "             verbose=3)"
            ]
          },
          "execution_count": 35,
          "metadata": {},
          "output_type": "execute_result"
        }
      ],
      "source": [
        "gsearch2b = GridSearchCV(RandomForestClassifier(n_estimators=300,random_state=0), param_test2b, n_jobs=-1,verbose=3)\n",
        "gsearch2b.fit(X_train_sample,y_train_sample)"
      ]
    },
    {
      "cell_type": "code",
      "execution_count": null,
      "metadata": {
        "colab": {
          "base_uri": "https://localhost:8080/"
        },
        "id": "lUqNX0ISAD87",
        "outputId": "7e483c8e-ff83-4365-cf7a-06f73ef6648d"
      },
      "outputs": [
        {
          "data": {
            "text/plain": [
              "({'max_depth': 12, 'min_samples_split': 2}, 0.6473333333333333)"
            ]
          },
          "execution_count": 36,
          "metadata": {},
          "output_type": "execute_result"
        }
      ],
      "source": [
        "gsearch2b.best_params_, gsearch2b.best_score_"
      ]
    },
    {
      "cell_type": "code",
      "execution_count": null,
      "metadata": {
        "id": "-9cdvIXCAP9-"
      },
      "outputs": [],
      "source": [
        "param_test2c = {\n",
        "    'max_depth' : [11,12,13,16],\n",
        "}"
      ]
    },
    {
      "cell_type": "code",
      "execution_count": null,
      "metadata": {
        "colab": {
          "base_uri": "https://localhost:8080/"
        },
        "id": "f21hI7A_AYGN",
        "outputId": "7ead9529-5f43-4f5b-c3f2-4156d6aff2a8"
      },
      "outputs": [
        {
          "name": "stdout",
          "output_type": "stream",
          "text": [
            "Fitting 5 folds for each of 4 candidates, totalling 20 fits\n"
          ]
        },
        {
          "data": {
            "text/plain": [
              "GridSearchCV(estimator=RandomForestClassifier(n_estimators=300, random_state=0),\n",
              "             n_jobs=-1, param_grid={'max_depth': [11, 12, 13, 16]}, verbose=3)"
            ]
          },
          "execution_count": 42,
          "metadata": {},
          "output_type": "execute_result"
        }
      ],
      "source": [
        "gsearch2c = GridSearchCV(RandomForestClassifier(n_estimators=300,random_state=0, min_samples_split=2), param_test2c, n_jobs=-1,verbose=3)\n",
        "gsearch2c.fit(X_train_sample,y_train_sample)"
      ]
    },
    {
      "cell_type": "code",
      "execution_count": null,
      "metadata": {
        "colab": {
          "base_uri": "https://localhost:8080/"
        },
        "id": "RWIAfuL-AYGO",
        "outputId": "a968eb82-c8d4-4845-fb13-8c78a51c7550"
      },
      "outputs": [
        {
          "data": {
            "text/plain": [
              "({'max_depth': 11}, 0.6569999999999999)"
            ]
          },
          "execution_count": 43,
          "metadata": {},
          "output_type": "execute_result"
        }
      ],
      "source": [
        "gsearch2c.best_params_, gsearch2c.best_score_"
      ]
    },
    {
      "cell_type": "markdown",
      "metadata": {
        "id": "tEMk4hFbBD-A"
      },
      "source": [
        "## Tuned Model"
      ]
    },
    {
      "cell_type": "code",
      "execution_count": 9,
      "metadata": {
        "id": "Ik1GhVQgBJob"
      },
      "outputs": [],
      "source": [
        "rf_tuned = RandomForestClassifier(n_estimators=300, max_depth = 11, random_state=0)"
      ]
    },
    {
      "cell_type": "code",
      "execution_count": 10,
      "metadata": {
        "colab": {
          "base_uri": "https://localhost:8080/"
        },
        "id": "56vHn4srBJoc",
        "outputId": "22ff0d19-99ac-4003-b35e-7da4e899ea6a"
      },
      "outputs": [
        {
          "output_type": "execute_result",
          "data": {
            "text/plain": [
              "RandomForestClassifier(max_depth=11, n_estimators=300, random_state=0)"
            ]
          },
          "metadata": {},
          "execution_count": 10
        }
      ],
      "source": [
        "rf_tuned.fit(X_train,y_train)"
      ]
    },
    {
      "cell_type": "code",
      "execution_count": 11,
      "metadata": {
        "id": "0Xpln_P2BJoe"
      },
      "outputs": [],
      "source": [
        "from sklearn.metrics import confusion_matrix, f1_score\n",
        "import matplotlib.pyplot as plt\n",
        "import seaborn as sns"
      ]
    },
    {
      "cell_type": "code",
      "execution_count": 12,
      "metadata": {
        "id": "LD-Yxk40BJoe"
      },
      "outputs": [],
      "source": [
        "pred_labels = rf_tuned.predict(X_test)"
      ]
    },
    {
      "cell_type": "code",
      "execution_count": 13,
      "metadata": {
        "colab": {
          "base_uri": "https://localhost:8080/"
        },
        "id": "zFvUdvcmBJof",
        "outputId": "3d0c12fa-72df-4944-8272-45af616d7f45"
      },
      "outputs": [
        {
          "output_type": "execute_result",
          "data": {
            "text/plain": [
              "0.47385110193547786"
            ]
          },
          "metadata": {},
          "execution_count": 13
        }
      ],
      "source": [
        "f1_score(y_test, pred_labels, average = 'macro')"
      ]
    },
    {
      "cell_type": "code",
      "execution_count": 14,
      "metadata": {
        "colab": {
          "base_uri": "https://localhost:8080/",
          "height": 350
        },
        "id": "B4UyO-qHBJog",
        "outputId": "65dbe949-bead-4d70-cd42-95f5c09dfe4f"
      },
      "outputs": [
        {
          "output_type": "display_data",
          "data": {
            "text/plain": [
              "<Figure size 360x360 with 1 Axes>"
            ],
            "image/png": "[encoded data removed]"
          },
          "metadata": {
            "needs_background": "light"
          }
        }
      ],
      "source": [
        "mat = confusion_matrix(y_test, pred_labels)\n",
        "plt.figure(figsize=(5,5))\n",
        "\n",
        "# np.unique(y_train) gives labels in a 'sorted' fashion appropriate to the outputs\n",
        "sns.heatmap(mat.T, square=True, annot=True, fmt='d', cbar=False, \n",
        "            xticklabels=np.unique(y_train), yticklabels=np.unique(y_train))\n",
        "plt.xlabel('true label')\n",
        "plt.ylabel('predicted label')\n",
        "plt.title('Random Forest');"
      ]
    },
    {
      "cell_type": "code",
      "execution_count": null,
      "metadata": {
        "colab": {
          "base_uri": "https://localhost:8080/",
          "height": 297
        },
        "id": "ouXPYSxxijAY",
        "outputId": "fde7cd8d-28d0-4465-e8bb-c3f5a21bac4c"
      },
      "outputs": [
        {
          "data": {
            "image/png": "[encoded data removed]",
            "text/plain": [
              "<Figure size 432x288 with 1 Axes>"
            ]
          },
          "metadata": {},
          "output_type": "display_data"
        }
      ],
      "source": [
        "feature_names = [i for i in X_train.columns]\n",
        "importances = rf_tuned.feature_importances_\n",
        "std = np.std([tree.feature_importances_ for tree in rf_tuned.estimators_], axis=0)\n",
        "\n",
        "rf_tuned_importances = pd.Series(importances, index=feature_names)\n",
        "\n",
        "fig, ax = plt.subplots()\n",
        "rf_tuned_importances.plot.bar(yerr=std, ax=ax)\n",
        "ax.set_title(\"Random Forest Feature importances\")\n",
        "ax.set_ylabel(\"Mean decrease in impurity\")\n",
        "fig.tight_layout()\n"
      ]
    },
    {
      "cell_type": "code",
      "source": [
        "from sklearn.inspection import permutation_importance\n",
        "\n",
        "result = permutation_importance(\n",
        "    rf_tuned, X_test, y_test, n_repeats=10, random_state=42, n_jobs=2\n",
        ")\n",
        "feature_names = [i for i in X_train.columns]\n",
        "rf_tuned_importances = pd.Series(result.importances_mean, index=feature_names)"
      ],
      "metadata": {
        "id": "3UxUF6ncqr1Z"
      },
      "execution_count": 16,
      "outputs": []
    },
    {
      "cell_type": "code",
      "source": [
        "fig, ax = plt.subplots()\n",
        "rf_tuned_importances.plot.bar(yerr=result.importances_std, ax=ax)\n",
        "ax.set_title(\"Feature importances using permutation on full model\")\n",
        "ax.set_ylabel(\"Mean accuracy decrease\")\n",
        "fig.tight_layout()\n",
        "plt.show()"
      ],
      "metadata": {
        "colab": {
          "base_uri": "https://localhost:8080/",
          "height": 297
        },
        "id": "99jyhT7zqujk",
        "outputId": "a5636450-0c74-4169-d1f3-0d481de73b84"
      },
      "execution_count": 17,
      "outputs": [
        {
          "output_type": "display_data",
          "data": {
            "text/plain": [
              "<Figure size 432x288 with 1 Axes>"
            ],
            "image/png": "[encoded data removed]"
          },
          "metadata": {
            "needs_background": "light"
          }
        }
      ]
    },
    {
      "cell_type": "code",
      "execution_count": null,
      "metadata": {
        "colab": {
          "base_uri": "https://localhost:8080/"
        },
        "id": "4Vgpmdu8lg11",
        "outputId": "97665914-4842-491c-cacb-07469e37c742"
      },
      "outputs": [
        {
          "data": {
            "text/plain": [
              "Index(['GenHlth', 'NoDocCost', 'KidneyDisease', 'Married', 'HasInsurance',\n",
              "       'PhysHlthBad', 'MentHelthBad', 'Exercise', 'HighBP', 'HighChol',\n",
              "       'HeartDisease', 'Sex', 'Height', 'Weight', 'EducationLvl', 'IncomeLvl',\n",
              "       'SmokerLvl', 'HeavyDrinker', 'FruitJuiceIntake', 'FruitIntake',\n",
              "       'DrkGrnVegIntake', 'FrenchFryIntake', 'PotatoIntake', 'OtherVegIntake',\n",
              "       'Race_White', 'Race_Black', 'Race_Asian', 'Race_Native', 'Race_Hisp',\n",
              "       'Race_Other'],\n",
              "      dtype='object')"
            ]
          },
          "execution_count": 19,
          "metadata": {},
          "output_type": "execute_result"
        }
      ],
      "source": [
        "X_train.columns"
      ]
    }
  ],
  "metadata": {
    "colab": {
      "provenance": []
    },
    "kernelspec": {
      "display_name": "Python 3",
      "name": "python3"
    },
    "language_info": {
      "name": "python"
    }
  },
  "nbformat": 4,
  "nbformat_minor": 0
}